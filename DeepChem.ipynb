{
  "nbformat": 4,
  "nbformat_minor": 0,
  "metadata": {
    "colab": {
      "name": "DeepChem",
      "provenance": [],
      "authorship_tag": "ABX9TyOzRWjtGfIAGRBjnRKAERaM",
      "include_colab_link": true
    },
    "kernelspec": {
      "name": "python3",
      "display_name": "Python 3"
    },
    "language_info": {
      "name": "python"
    }
  },
  "cells": [
    {
      "cell_type": "markdown",
      "metadata": {
        "id": "view-in-github",
        "colab_type": "text"
      },
      "source": [
        "<a href=\"https://colab.research.google.com/github/iams0rakim/studying/blob/main/DeepChem.ipynb\" target=\"_parent\"><img src=\"https://colab.research.google.com/assets/colab-badge.svg\" alt=\"Open In Colab\"/></a>"
      ]
    },
    {
      "cell_type": "code",
      "metadata": {
        "colab": {
          "base_uri": "https://localhost:8080/"
        },
        "id": "SGg5xxqUIjCY",
        "outputId": "c0f149a5-6617-4ade-9528-0440bfe8893c"
      },
      "source": [
        "!pip install --pre deepchem"
      ],
      "execution_count": null,
      "outputs": [
        {
          "output_type": "stream",
          "name": "stdout",
          "text": [
            "Collecting deepchem\n",
            "  Downloading deepchem-2.6.0.dev20211007042252-py3-none-any.whl (609 kB)\n",
            "\u001b[?25l\r\u001b[K     |▌                               | 10 kB 26.9 MB/s eta 0:00:01\r\u001b[K     |█                               | 20 kB 31.2 MB/s eta 0:00:01\r\u001b[K     |█▋                              | 30 kB 17.9 MB/s eta 0:00:01\r\u001b[K     |██▏                             | 40 kB 17.8 MB/s eta 0:00:01\r\u001b[K     |██▊                             | 51 kB 11.0 MB/s eta 0:00:01\r\u001b[K     |███▎                            | 61 kB 12.5 MB/s eta 0:00:01\r\u001b[K     |███▊                            | 71 kB 13.1 MB/s eta 0:00:01\r\u001b[K     |████▎                           | 81 kB 14.6 MB/s eta 0:00:01\r\u001b[K     |████▉                           | 92 kB 11.2 MB/s eta 0:00:01\r\u001b[K     |█████▍                          | 102 kB 11.4 MB/s eta 0:00:01\r\u001b[K     |██████                          | 112 kB 11.4 MB/s eta 0:00:01\r\u001b[K     |██████▌                         | 122 kB 11.4 MB/s eta 0:00:01\r\u001b[K     |███████                         | 133 kB 11.4 MB/s eta 0:00:01\r\u001b[K     |███████▌                        | 143 kB 11.4 MB/s eta 0:00:01\r\u001b[K     |████████                        | 153 kB 11.4 MB/s eta 0:00:01\r\u001b[K     |████████▋                       | 163 kB 11.4 MB/s eta 0:00:01\r\u001b[K     |█████████▏                      | 174 kB 11.4 MB/s eta 0:00:01\r\u001b[K     |█████████▊                      | 184 kB 11.4 MB/s eta 0:00:01\r\u001b[K     |██████████▏                     | 194 kB 11.4 MB/s eta 0:00:01\r\u001b[K     |██████████▊                     | 204 kB 11.4 MB/s eta 0:00:01\r\u001b[K     |███████████▎                    | 215 kB 11.4 MB/s eta 0:00:01\r\u001b[K     |███████████▉                    | 225 kB 11.4 MB/s eta 0:00:01\r\u001b[K     |████████████▍                   | 235 kB 11.4 MB/s eta 0:00:01\r\u001b[K     |█████████████                   | 245 kB 11.4 MB/s eta 0:00:01\r\u001b[K     |█████████████▍                  | 256 kB 11.4 MB/s eta 0:00:01\r\u001b[K     |██████████████                  | 266 kB 11.4 MB/s eta 0:00:01\r\u001b[K     |██████████████▌                 | 276 kB 11.4 MB/s eta 0:00:01\r\u001b[K     |███████████████                 | 286 kB 11.4 MB/s eta 0:00:01\r\u001b[K     |███████████████▋                | 296 kB 11.4 MB/s eta 0:00:01\r\u001b[K     |████████████████▏               | 307 kB 11.4 MB/s eta 0:00:01\r\u001b[K     |████████████████▋               | 317 kB 11.4 MB/s eta 0:00:01\r\u001b[K     |█████████████████▏              | 327 kB 11.4 MB/s eta 0:00:01\r\u001b[K     |█████████████████▊              | 337 kB 11.4 MB/s eta 0:00:01\r\u001b[K     |██████████████████▎             | 348 kB 11.4 MB/s eta 0:00:01\r\u001b[K     |██████████████████▉             | 358 kB 11.4 MB/s eta 0:00:01\r\u001b[K     |███████████████████▍            | 368 kB 11.4 MB/s eta 0:00:01\r\u001b[K     |███████████████████▉            | 378 kB 11.4 MB/s eta 0:00:01\r\u001b[K     |████████████████████▍           | 389 kB 11.4 MB/s eta 0:00:01\r\u001b[K     |█████████████████████           | 399 kB 11.4 MB/s eta 0:00:01\r\u001b[K     |█████████████████████▌          | 409 kB 11.4 MB/s eta 0:00:01\r\u001b[K     |██████████████████████          | 419 kB 11.4 MB/s eta 0:00:01\r\u001b[K     |██████████████████████▋         | 430 kB 11.4 MB/s eta 0:00:01\r\u001b[K     |███████████████████████▏        | 440 kB 11.4 MB/s eta 0:00:01\r\u001b[K     |███████████████████████▋        | 450 kB 11.4 MB/s eta 0:00:01\r\u001b[K     |████████████████████████▏       | 460 kB 11.4 MB/s eta 0:00:01\r\u001b[K     |████████████████████████▊       | 471 kB 11.4 MB/s eta 0:00:01\r\u001b[K     |█████████████████████████▎      | 481 kB 11.4 MB/s eta 0:00:01\r\u001b[K     |█████████████████████████▉      | 491 kB 11.4 MB/s eta 0:00:01\r\u001b[K     |██████████████████████████▍     | 501 kB 11.4 MB/s eta 0:00:01\r\u001b[K     |██████████████████████████▉     | 512 kB 11.4 MB/s eta 0:00:01\r\u001b[K     |███████████████████████████▍    | 522 kB 11.4 MB/s eta 0:00:01\r\u001b[K     |████████████████████████████    | 532 kB 11.4 MB/s eta 0:00:01\r\u001b[K     |████████████████████████████▌   | 542 kB 11.4 MB/s eta 0:00:01\r\u001b[K     |█████████████████████████████   | 552 kB 11.4 MB/s eta 0:00:01\r\u001b[K     |█████████████████████████████▋  | 563 kB 11.4 MB/s eta 0:00:01\r\u001b[K     |██████████████████████████████  | 573 kB 11.4 MB/s eta 0:00:01\r\u001b[K     |██████████████████████████████▋ | 583 kB 11.4 MB/s eta 0:00:01\r\u001b[K     |███████████████████████████████▏| 593 kB 11.4 MB/s eta 0:00:01\r\u001b[K     |███████████████████████████████▊| 604 kB 11.4 MB/s eta 0:00:01\r\u001b[K     |████████████████████████████████| 609 kB 11.4 MB/s \n",
            "\u001b[?25hRequirement already satisfied: scipy in /usr/local/lib/python3.7/dist-packages (from deepchem) (1.4.1)\n",
            "Requirement already satisfied: numpy in /usr/local/lib/python3.7/dist-packages (from deepchem) (1.19.5)\n",
            "Requirement already satisfied: pandas in /usr/local/lib/python3.7/dist-packages (from deepchem) (1.1.5)\n",
            "Requirement already satisfied: joblib in /usr/local/lib/python3.7/dist-packages (from deepchem) (1.0.1)\n",
            "Requirement already satisfied: scikit-learn in /usr/local/lib/python3.7/dist-packages (from deepchem) (0.22.2.post1)\n",
            "Requirement already satisfied: python-dateutil>=2.7.3 in /usr/local/lib/python3.7/dist-packages (from pandas->deepchem) (2.8.2)\n",
            "Requirement already satisfied: pytz>=2017.2 in /usr/local/lib/python3.7/dist-packages (from pandas->deepchem) (2018.9)\n",
            "Requirement already satisfied: six>=1.5 in /usr/local/lib/python3.7/dist-packages (from python-dateutil>=2.7.3->pandas->deepchem) (1.15.0)\n",
            "Installing collected packages: deepchem\n",
            "Successfully installed deepchem-2.6.0.dev20211007042252\n"
          ]
        }
      ]
    },
    {
      "cell_type": "code",
      "metadata": {
        "colab": {
          "base_uri": "https://localhost:8080/",
          "height": 35
        },
        "id": "9LOXjkz8Ikw_",
        "outputId": "51f71c22-adc3-4083-cb3f-0a1c5fc511e9"
      },
      "source": [
        "import deepchem as dc\n",
        "dc.__version__"
      ],
      "execution_count": null,
      "outputs": [
        {
          "output_type": "execute_result",
          "data": {
            "application/vnd.google.colaboratory.intrinsic+json": {
              "type": "string"
            },
            "text/plain": [
              "'2.6.0.dev'"
            ]
          },
          "metadata": {},
          "execution_count": 2
        }
      ]
    },
    {
      "cell_type": "code",
      "metadata": {
        "colab": {
          "base_uri": "https://localhost:8080/"
        },
        "id": "k7dLBc8wIk7w",
        "outputId": "1d02cd25-d010-495c-bdd6-6eac0d9f8e81"
      },
      "source": [
        "!apt-get -qq install -y graphviz && pip install pydot\n",
        "import pydot"
      ],
      "execution_count": null,
      "outputs": [
        {
          "output_type": "stream",
          "name": "stdout",
          "text": [
            "Requirement already satisfied: pydot in /usr/local/lib/python3.7/dist-packages (1.3.0)\n",
            "Requirement already satisfied: pyparsing>=2.1.4 in /usr/local/lib/python3.7/dist-packages (from pydot) (2.4.7)\n"
          ]
        }
      ]
    },
    {
      "cell_type": "code",
      "metadata": {
        "id": "FVUftHT4Ik-p"
      },
      "source": [
        "import deepchem as dc\n",
        "import numpy as np"
      ],
      "execution_count": null,
      "outputs": []
    },
    {
      "cell_type": "code",
      "metadata": {
        "id": "YbwgDZAKIlBG"
      },
      "source": [
        "x = np.random.random((4, 5))\n",
        "y = np.random.random((4, 1))"
      ],
      "execution_count": null,
      "outputs": []
    },
    {
      "cell_type": "code",
      "metadata": {
        "colab": {
          "base_uri": "https://localhost:8080/"
        },
        "id": "h09cjyNjIlDo",
        "outputId": "f4d1100c-c49b-4579-dec1-eac9ea11b352"
      },
      "source": [
        "x"
      ],
      "execution_count": null,
      "outputs": [
        {
          "output_type": "execute_result",
          "data": {
            "text/plain": [
              "array([[0.04080952, 0.15392154, 0.78024459, 0.70485278, 0.60696447],\n",
              "       [0.11108624, 0.73210795, 0.81447797, 0.47634287, 0.13768786],\n",
              "       [0.60786458, 0.51694362, 0.96430954, 0.72999762, 0.82787107],\n",
              "       [0.83692096, 0.31409974, 0.38939578, 0.69294929, 0.31594152]])"
            ]
          },
          "metadata": {},
          "execution_count": 6
        }
      ]
    },
    {
      "cell_type": "code",
      "metadata": {
        "id": "omRSiHm2IlHP"
      },
      "source": [
        "dataset = dc.data.NumpyDataset(x, y)"
      ],
      "execution_count": null,
      "outputs": []
    },
    {
      "cell_type": "code",
      "metadata": {
        "colab": {
          "base_uri": "https://localhost:8080/"
        },
        "id": "Rfva9eTYP0vQ",
        "outputId": "85b7b658-68f6-4e85-958e-3e595367ed5c"
      },
      "source": [
        "print(dataset.X)"
      ],
      "execution_count": null,
      "outputs": [
        {
          "output_type": "stream",
          "name": "stdout",
          "text": [
            "[[0.04080952 0.15392154 0.78024459 0.70485278 0.60696447]\n",
            " [0.11108624 0.73210795 0.81447797 0.47634287 0.13768786]\n",
            " [0.60786458 0.51694362 0.96430954 0.72999762 0.82787107]\n",
            " [0.83692096 0.31409974 0.38939578 0.69294929 0.31594152]]\n"
          ]
        }
      ]
    },
    {
      "cell_type": "code",
      "metadata": {
        "colab": {
          "base_uri": "https://localhost:8080/"
        },
        "id": "yZ0fdE2JP3_T",
        "outputId": "a867122f-c959-441a-9534-54a929269ad7"
      },
      "source": [
        "np.array_equal(y, dataset.y)"
      ],
      "execution_count": null,
      "outputs": [
        {
          "output_type": "execute_result",
          "data": {
            "text/plain": [
              "True"
            ]
          },
          "metadata": {},
          "execution_count": 9
        }
      ]
    },
    {
      "cell_type": "code",
      "metadata": {
        "colab": {
          "base_uri": "https://localhost:8080/"
        },
        "id": "_hcyyhcBQePy",
        "outputId": "8a5ba407-62ed-431c-fbb4-ec11f7ec22a9"
      },
      "source": [
        "!pip install matplotlib-venn"
      ],
      "execution_count": null,
      "outputs": [
        {
          "output_type": "stream",
          "name": "stdout",
          "text": [
            "Requirement already satisfied: matplotlib-venn in /usr/local/lib/python3.7/dist-packages (0.11.6)\n",
            "Requirement already satisfied: matplotlib in /usr/local/lib/python3.7/dist-packages (from matplotlib-venn) (3.2.2)\n",
            "Requirement already satisfied: numpy in /usr/local/lib/python3.7/dist-packages (from matplotlib-venn) (1.19.5)\n",
            "Requirement already satisfied: scipy in /usr/local/lib/python3.7/dist-packages (from matplotlib-venn) (1.4.1)\n",
            "Requirement already satisfied: pyparsing!=2.0.4,!=2.1.2,!=2.1.6,>=2.0.1 in /usr/local/lib/python3.7/dist-packages (from matplotlib->matplotlib-venn) (2.4.7)\n",
            "Requirement already satisfied: kiwisolver>=1.0.1 in /usr/local/lib/python3.7/dist-packages (from matplotlib->matplotlib-venn) (1.3.2)\n",
            "Requirement already satisfied: python-dateutil>=2.1 in /usr/local/lib/python3.7/dist-packages (from matplotlib->matplotlib-venn) (2.8.2)\n",
            "Requirement already satisfied: cycler>=0.10 in /usr/local/lib/python3.7/dist-packages (from matplotlib->matplotlib-venn) (0.10.0)\n",
            "Requirement already satisfied: six in /usr/local/lib/python3.7/dist-packages (from cycler>=0.10->matplotlib->matplotlib-venn) (1.15.0)\n"
          ]
        }
      ]
    },
    {
      "cell_type": "code",
      "metadata": {
        "colab": {
          "base_uri": "https://localhost:8080/",
          "height": 35
        },
        "id": "YHhNw51QQtg8",
        "outputId": "ed699c1c-7dfd-4adf-b83b-529515e9774e"
      },
      "source": [
        "import deepchem as dc\n",
        "dc.__version__"
      ],
      "execution_count": null,
      "outputs": [
        {
          "output_type": "execute_result",
          "data": {
            "application/vnd.google.colaboratory.intrinsic+json": {
              "type": "string"
            },
            "text/plain": [
              "'2.6.0.dev'"
            ]
          },
          "metadata": {},
          "execution_count": 11
        }
      ]
    },
    {
      "cell_type": "code",
      "metadata": {
        "colab": {
          "base_uri": "https://localhost:8080/"
        },
        "id": "jgyp2hBARGer",
        "outputId": "f71520c4-1fa0-4467-a8bb-f6bf0b784421"
      },
      "source": [
        "pip install rdkit-pypi"
      ],
      "execution_count": null,
      "outputs": [
        {
          "output_type": "stream",
          "name": "stdout",
          "text": [
            "Collecting rdkit-pypi\n",
            "  Downloading rdkit_pypi-2021.3.5.1-cp37-cp37m-manylinux_2_17_x86_64.manylinux2014_x86_64.whl (19.7 MB)\n",
            "\u001b[K     |████████████████████████████████| 19.7 MB 87 kB/s \n",
            "\u001b[?25hRequirement already satisfied: numpy>=1.19 in /usr/local/lib/python3.7/dist-packages (from rdkit-pypi) (1.19.5)\n",
            "Installing collected packages: rdkit-pypi\n",
            "Successfully installed rdkit-pypi-2021.3.5.1\n"
          ]
        }
      ]
    },
    {
      "cell_type": "markdown",
      "metadata": {
        "id": "e4PnphX8THnB"
      },
      "source": [
        "# **predicting the solubility of small molecules given their chemical formulas (important property in drug development)**"
      ]
    },
    {
      "cell_type": "code",
      "metadata": {
        "id": "aJwfoX4KRUOg"
      },
      "source": [
        "tasks, datasets, transformers = dc.molnet.load_delaney(featurizer='GraphConv')\n",
        "train_dataset, valid_dataset, test_dataset = datasets"
      ],
      "execution_count": null,
      "outputs": []
    },
    {
      "cell_type": "code",
      "metadata": {
        "id": "ohs529O6RXvI"
      },
      "source": [
        "model = dc.models.GraphConvModel(n_tasks=1, mode='regression', dropout=0.2)"
      ],
      "execution_count": null,
      "outputs": []
    },
    {
      "cell_type": "code",
      "metadata": {
        "colab": {
          "base_uri": "https://localhost:8080/"
        },
        "id": "4DB1QntCR7aa",
        "outputId": "e67b570b-47ab-4033-bfed-13978e28c07f"
      },
      "source": [
        "model.fit(train_dataset, nb_epoch=100)"
      ],
      "execution_count": null,
      "outputs": [
        {
          "output_type": "stream",
          "name": "stderr",
          "text": [
            "/usr/local/lib/python3.7/dist-packages/tensorflow/python/framework/indexed_slices.py:449: UserWarning: Converting sparse IndexedSlices(IndexedSlices(indices=Tensor(\"gradient_tape/private__graph_conv_keras_model/graph_pool_1/Reshape_14:0\", shape=(362,), dtype=int32), values=Tensor(\"gradient_tape/private__graph_conv_keras_model/graph_pool_1/Reshape_13:0\", shape=(362, 64), dtype=float32), dense_shape=Tensor(\"gradient_tape/private__graph_conv_keras_model/graph_pool_1/Cast_4:0\", shape=(2,), dtype=int32))) to a dense Tensor of unknown shape. This may consume a large amount of memory.\n",
            "  \"shape. This may consume a large amount of memory.\" % value)\n",
            "/usr/local/lib/python3.7/dist-packages/tensorflow/python/framework/indexed_slices.py:449: UserWarning: Converting sparse IndexedSlices(IndexedSlices(indices=Tensor(\"gradient_tape/private__graph_conv_keras_model/graph_pool_1/Reshape_17:0\", shape=(1076,), dtype=int32), values=Tensor(\"gradient_tape/private__graph_conv_keras_model/graph_pool_1/Reshape_16:0\", shape=(1076, 64), dtype=float32), dense_shape=Tensor(\"gradient_tape/private__graph_conv_keras_model/graph_pool_1/Cast_5:0\", shape=(2,), dtype=int32))) to a dense Tensor of unknown shape. This may consume a large amount of memory.\n",
            "  \"shape. This may consume a large amount of memory.\" % value)\n",
            "/usr/local/lib/python3.7/dist-packages/tensorflow/python/framework/indexed_slices.py:449: UserWarning: Converting sparse IndexedSlices(IndexedSlices(indices=Tensor(\"gradient_tape/private__graph_conv_keras_model/graph_pool_1/Reshape_20:0\", shape=(930,), dtype=int32), values=Tensor(\"gradient_tape/private__graph_conv_keras_model/graph_pool_1/Reshape_19:0\", shape=(930, 64), dtype=float32), dense_shape=Tensor(\"gradient_tape/private__graph_conv_keras_model/graph_pool_1/Cast_6:0\", shape=(2,), dtype=int32))) to a dense Tensor of unknown shape. This may consume a large amount of memory.\n",
            "  \"shape. This may consume a large amount of memory.\" % value)\n",
            "/usr/local/lib/python3.7/dist-packages/tensorflow/python/framework/indexed_slices.py:449: UserWarning: Converting sparse IndexedSlices(IndexedSlices(indices=Tensor(\"gradient_tape/private__graph_conv_keras_model/graph_pool_1/Reshape_23:0\", shape=(112,), dtype=int32), values=Tensor(\"gradient_tape/private__graph_conv_keras_model/graph_pool_1/Reshape_22:0\", shape=(112, 64), dtype=float32), dense_shape=Tensor(\"gradient_tape/private__graph_conv_keras_model/graph_pool_1/Cast_7:0\", shape=(2,), dtype=int32))) to a dense Tensor of unknown shape. This may consume a large amount of memory.\n",
            "  \"shape. This may consume a large amount of memory.\" % value)\n",
            "/usr/local/lib/python3.7/dist-packages/tensorflow/python/framework/indexed_slices.py:449: UserWarning: Converting sparse IndexedSlices(IndexedSlices(indices=Tensor(\"gradient_tape/private__graph_conv_keras_model/graph_conv_1/Reshape_11:0\", shape=(362,), dtype=int32), values=Tensor(\"gradient_tape/private__graph_conv_keras_model/graph_conv_1/Reshape_10:0\", shape=(362, 64), dtype=float32), dense_shape=Tensor(\"gradient_tape/private__graph_conv_keras_model/graph_conv_1/Cast:0\", shape=(2,), dtype=int32))) to a dense Tensor of unknown shape. This may consume a large amount of memory.\n",
            "  \"shape. This may consume a large amount of memory.\" % value)\n",
            "/usr/local/lib/python3.7/dist-packages/tensorflow/python/framework/indexed_slices.py:449: UserWarning: Converting sparse IndexedSlices(IndexedSlices(indices=Tensor(\"gradient_tape/private__graph_conv_keras_model/graph_conv_1/Reshape_13:0\", shape=(1076,), dtype=int32), values=Tensor(\"gradient_tape/private__graph_conv_keras_model/graph_conv_1/Reshape_12:0\", shape=(1076, 64), dtype=float32), dense_shape=Tensor(\"gradient_tape/private__graph_conv_keras_model/graph_conv_1/Cast_1:0\", shape=(2,), dtype=int32))) to a dense Tensor of unknown shape. This may consume a large amount of memory.\n",
            "  \"shape. This may consume a large amount of memory.\" % value)\n",
            "/usr/local/lib/python3.7/dist-packages/tensorflow/python/framework/indexed_slices.py:449: UserWarning: Converting sparse IndexedSlices(IndexedSlices(indices=Tensor(\"gradient_tape/private__graph_conv_keras_model/graph_conv_1/Reshape_15:0\", shape=(930,), dtype=int32), values=Tensor(\"gradient_tape/private__graph_conv_keras_model/graph_conv_1/Reshape_14:0\", shape=(930, 64), dtype=float32), dense_shape=Tensor(\"gradient_tape/private__graph_conv_keras_model/graph_conv_1/Cast_2:0\", shape=(2,), dtype=int32))) to a dense Tensor of unknown shape. This may consume a large amount of memory.\n",
            "  \"shape. This may consume a large amount of memory.\" % value)\n",
            "/usr/local/lib/python3.7/dist-packages/tensorflow/python/framework/indexed_slices.py:449: UserWarning: Converting sparse IndexedSlices(IndexedSlices(indices=Tensor(\"gradient_tape/private__graph_conv_keras_model/graph_conv_1/Reshape_17:0\", shape=(112,), dtype=int32), values=Tensor(\"gradient_tape/private__graph_conv_keras_model/graph_conv_1/Reshape_16:0\", shape=(112, 64), dtype=float32), dense_shape=Tensor(\"gradient_tape/private__graph_conv_keras_model/graph_conv_1/Cast_3:0\", shape=(2,), dtype=int32))) to a dense Tensor of unknown shape. This may consume a large amount of memory.\n",
            "  \"shape. This may consume a large amount of memory.\" % value)\n",
            "/usr/local/lib/python3.7/dist-packages/tensorflow/python/framework/indexed_slices.py:449: UserWarning: Converting sparse IndexedSlices(IndexedSlices(indices=Tensor(\"gradient_tape/private__graph_conv_keras_model/graph_conv_1/Reshape_19:0\", shape=(0,), dtype=int32), values=Tensor(\"gradient_tape/private__graph_conv_keras_model/graph_conv_1/Reshape_18:0\", shape=(0, 64), dtype=float32), dense_shape=Tensor(\"gradient_tape/private__graph_conv_keras_model/graph_conv_1/Cast_4:0\", shape=(2,), dtype=int32))) to a dense Tensor of unknown shape. This may consume a large amount of memory.\n",
            "  \"shape. This may consume a large amount of memory.\" % value)\n",
            "/usr/local/lib/python3.7/dist-packages/tensorflow/python/framework/indexed_slices.py:449: UserWarning: Converting sparse IndexedSlices(IndexedSlices(indices=Tensor(\"gradient_tape/private__graph_conv_keras_model/graph_conv_1/Reshape_21:0\", shape=(0,), dtype=int32), values=Tensor(\"gradient_tape/private__graph_conv_keras_model/graph_conv_1/Reshape_20:0\", shape=(0, 64), dtype=float32), dense_shape=Tensor(\"gradient_tape/private__graph_conv_keras_model/graph_conv_1/Cast_5:0\", shape=(2,), dtype=int32))) to a dense Tensor of unknown shape. This may consume a large amount of memory.\n",
            "  \"shape. This may consume a large amount of memory.\" % value)\n",
            "/usr/local/lib/python3.7/dist-packages/tensorflow/python/framework/indexed_slices.py:449: UserWarning: Converting sparse IndexedSlices(IndexedSlices(indices=Tensor(\"gradient_tape/private__graph_conv_keras_model/graph_conv_1/Reshape_23:0\", shape=(0,), dtype=int32), values=Tensor(\"gradient_tape/private__graph_conv_keras_model/graph_conv_1/Reshape_22:0\", shape=(0, 64), dtype=float32), dense_shape=Tensor(\"gradient_tape/private__graph_conv_keras_model/graph_conv_1/Cast_6:0\", shape=(2,), dtype=int32))) to a dense Tensor of unknown shape. This may consume a large amount of memory.\n",
            "  \"shape. This may consume a large amount of memory.\" % value)\n",
            "/usr/local/lib/python3.7/dist-packages/tensorflow/python/framework/indexed_slices.py:449: UserWarning: Converting sparse IndexedSlices(IndexedSlices(indices=Tensor(\"gradient_tape/private__graph_conv_keras_model/graph_conv_1/Reshape_25:0\", shape=(0,), dtype=int32), values=Tensor(\"gradient_tape/private__graph_conv_keras_model/graph_conv_1/Reshape_24:0\", shape=(0, 64), dtype=float32), dense_shape=Tensor(\"gradient_tape/private__graph_conv_keras_model/graph_conv_1/Cast_7:0\", shape=(2,), dtype=int32))) to a dense Tensor of unknown shape. This may consume a large amount of memory.\n",
            "  \"shape. This may consume a large amount of memory.\" % value)\n",
            "/usr/local/lib/python3.7/dist-packages/tensorflow/python/framework/indexed_slices.py:449: UserWarning: Converting sparse IndexedSlices(IndexedSlices(indices=Tensor(\"gradient_tape/private__graph_conv_keras_model/graph_conv_1/Reshape_27:0\", shape=(0,), dtype=int32), values=Tensor(\"gradient_tape/private__graph_conv_keras_model/graph_conv_1/Reshape_26:0\", shape=(0, 64), dtype=float32), dense_shape=Tensor(\"gradient_tape/private__graph_conv_keras_model/graph_conv_1/Cast_8:0\", shape=(2,), dtype=int32))) to a dense Tensor of unknown shape. This may consume a large amount of memory.\n",
            "  \"shape. This may consume a large amount of memory.\" % value)\n",
            "/usr/local/lib/python3.7/dist-packages/tensorflow/python/framework/indexed_slices.py:449: UserWarning: Converting sparse IndexedSlices(IndexedSlices(indices=Tensor(\"gradient_tape/private__graph_conv_keras_model/graph_conv_1/Reshape_29:0\", shape=(0,), dtype=int32), values=Tensor(\"gradient_tape/private__graph_conv_keras_model/graph_conv_1/Reshape_28:0\", shape=(0, 64), dtype=float32), dense_shape=Tensor(\"gradient_tape/private__graph_conv_keras_model/graph_conv_1/Cast_9:0\", shape=(2,), dtype=int32))) to a dense Tensor of unknown shape. This may consume a large amount of memory.\n",
            "  \"shape. This may consume a large amount of memory.\" % value)\n",
            "/usr/local/lib/python3.7/dist-packages/tensorflow/python/framework/indexed_slices.py:449: UserWarning: Converting sparse IndexedSlices(IndexedSlices(indices=Tensor(\"gradient_tape/private__graph_conv_keras_model/graph_pool/Reshape_14:0\", shape=(362,), dtype=int32), values=Tensor(\"gradient_tape/private__graph_conv_keras_model/graph_pool/Reshape_13:0\", shape=(362, 64), dtype=float32), dense_shape=Tensor(\"gradient_tape/private__graph_conv_keras_model/graph_pool/Cast_4:0\", shape=(2,), dtype=int32))) to a dense Tensor of unknown shape. This may consume a large amount of memory.\n",
            "  \"shape. This may consume a large amount of memory.\" % value)\n",
            "/usr/local/lib/python3.7/dist-packages/tensorflow/python/framework/indexed_slices.py:449: UserWarning: Converting sparse IndexedSlices(IndexedSlices(indices=Tensor(\"gradient_tape/private__graph_conv_keras_model/graph_pool/Reshape_17:0\", shape=(1076,), dtype=int32), values=Tensor(\"gradient_tape/private__graph_conv_keras_model/graph_pool/Reshape_16:0\", shape=(1076, 64), dtype=float32), dense_shape=Tensor(\"gradient_tape/private__graph_conv_keras_model/graph_pool/Cast_5:0\", shape=(2,), dtype=int32))) to a dense Tensor of unknown shape. This may consume a large amount of memory.\n",
            "  \"shape. This may consume a large amount of memory.\" % value)\n",
            "/usr/local/lib/python3.7/dist-packages/tensorflow/python/framework/indexed_slices.py:449: UserWarning: Converting sparse IndexedSlices(IndexedSlices(indices=Tensor(\"gradient_tape/private__graph_conv_keras_model/graph_pool/Reshape_20:0\", shape=(930,), dtype=int32), values=Tensor(\"gradient_tape/private__graph_conv_keras_model/graph_pool/Reshape_19:0\", shape=(930, 64), dtype=float32), dense_shape=Tensor(\"gradient_tape/private__graph_conv_keras_model/graph_pool/Cast_6:0\", shape=(2,), dtype=int32))) to a dense Tensor of unknown shape. This may consume a large amount of memory.\n",
            "  \"shape. This may consume a large amount of memory.\" % value)\n",
            "/usr/local/lib/python3.7/dist-packages/tensorflow/python/framework/indexed_slices.py:449: UserWarning: Converting sparse IndexedSlices(IndexedSlices(indices=Tensor(\"gradient_tape/private__graph_conv_keras_model/graph_pool/Reshape_23:0\", shape=(112,), dtype=int32), values=Tensor(\"gradient_tape/private__graph_conv_keras_model/graph_pool/Reshape_22:0\", shape=(112, 64), dtype=float32), dense_shape=Tensor(\"gradient_tape/private__graph_conv_keras_model/graph_pool/Cast_7:0\", shape=(2,), dtype=int32))) to a dense Tensor of unknown shape. This may consume a large amount of memory.\n",
            "  \"shape. This may consume a large amount of memory.\" % value)\n",
            "/usr/local/lib/python3.7/dist-packages/tensorflow/python/framework/indexed_slices.py:449: UserWarning: Converting sparse IndexedSlices(IndexedSlices(indices=Tensor(\"gradient_tape/private__graph_conv_keras_model/graph_pool_1/Reshape_14:0\", shape=(350,), dtype=int32), values=Tensor(\"gradient_tape/private__graph_conv_keras_model/graph_pool_1/Reshape_13:0\", shape=(350, 64), dtype=float32), dense_shape=Tensor(\"gradient_tape/private__graph_conv_keras_model/graph_pool_1/Cast_4:0\", shape=(2,), dtype=int32))) to a dense Tensor of unknown shape. This may consume a large amount of memory.\n",
            "  \"shape. This may consume a large amount of memory.\" % value)\n",
            "/usr/local/lib/python3.7/dist-packages/tensorflow/python/framework/indexed_slices.py:449: UserWarning: Converting sparse IndexedSlices(IndexedSlices(indices=Tensor(\"gradient_tape/private__graph_conv_keras_model/graph_pool_1/Reshape_17:0\", shape=(1040,), dtype=int32), values=Tensor(\"gradient_tape/private__graph_conv_keras_model/graph_pool_1/Reshape_16:0\", shape=(1040, 64), dtype=float32), dense_shape=Tensor(\"gradient_tape/private__graph_conv_keras_model/graph_pool_1/Cast_5:0\", shape=(2,), dtype=int32))) to a dense Tensor of unknown shape. This may consume a large amount of memory.\n",
            "  \"shape. This may consume a large amount of memory.\" % value)\n",
            "/usr/local/lib/python3.7/dist-packages/tensorflow/python/framework/indexed_slices.py:449: UserWarning: Converting sparse IndexedSlices(IndexedSlices(indices=Tensor(\"gradient_tape/private__graph_conv_keras_model/graph_pool_1/Reshape_20:0\", shape=(870,), dtype=int32), values=Tensor(\"gradient_tape/private__graph_conv_keras_model/graph_pool_1/Reshape_19:0\", shape=(870, 64), dtype=float32), dense_shape=Tensor(\"gradient_tape/private__graph_conv_keras_model/graph_pool_1/Cast_6:0\", shape=(2,), dtype=int32))) to a dense Tensor of unknown shape. This may consume a large amount of memory.\n",
            "  \"shape. This may consume a large amount of memory.\" % value)\n",
            "/usr/local/lib/python3.7/dist-packages/tensorflow/python/framework/indexed_slices.py:449: UserWarning: Converting sparse IndexedSlices(IndexedSlices(indices=Tensor(\"gradient_tape/private__graph_conv_keras_model/graph_pool_1/Reshape_23:0\", shape=(96,), dtype=int32), values=Tensor(\"gradient_tape/private__graph_conv_keras_model/graph_pool_1/Reshape_22:0\", shape=(96, 64), dtype=float32), dense_shape=Tensor(\"gradient_tape/private__graph_conv_keras_model/graph_pool_1/Cast_7:0\", shape=(2,), dtype=int32))) to a dense Tensor of unknown shape. This may consume a large amount of memory.\n",
            "  \"shape. This may consume a large amount of memory.\" % value)\n",
            "/usr/local/lib/python3.7/dist-packages/tensorflow/python/framework/indexed_slices.py:449: UserWarning: Converting sparse IndexedSlices(IndexedSlices(indices=Tensor(\"gradient_tape/private__graph_conv_keras_model/graph_conv_1/Reshape_11:0\", shape=(350,), dtype=int32), values=Tensor(\"gradient_tape/private__graph_conv_keras_model/graph_conv_1/Reshape_10:0\", shape=(350, 64), dtype=float32), dense_shape=Tensor(\"gradient_tape/private__graph_conv_keras_model/graph_conv_1/Cast:0\", shape=(2,), dtype=int32))) to a dense Tensor of unknown shape. This may consume a large amount of memory.\n",
            "  \"shape. This may consume a large amount of memory.\" % value)\n",
            "/usr/local/lib/python3.7/dist-packages/tensorflow/python/framework/indexed_slices.py:449: UserWarning: Converting sparse IndexedSlices(IndexedSlices(indices=Tensor(\"gradient_tape/private__graph_conv_keras_model/graph_conv_1/Reshape_13:0\", shape=(1040,), dtype=int32), values=Tensor(\"gradient_tape/private__graph_conv_keras_model/graph_conv_1/Reshape_12:0\", shape=(1040, 64), dtype=float32), dense_shape=Tensor(\"gradient_tape/private__graph_conv_keras_model/graph_conv_1/Cast_1:0\", shape=(2,), dtype=int32))) to a dense Tensor of unknown shape. This may consume a large amount of memory.\n",
            "  \"shape. This may consume a large amount of memory.\" % value)\n",
            "/usr/local/lib/python3.7/dist-packages/tensorflow/python/framework/indexed_slices.py:449: UserWarning: Converting sparse IndexedSlices(IndexedSlices(indices=Tensor(\"gradient_tape/private__graph_conv_keras_model/graph_conv_1/Reshape_15:0\", shape=(870,), dtype=int32), values=Tensor(\"gradient_tape/private__graph_conv_keras_model/graph_conv_1/Reshape_14:0\", shape=(870, 64), dtype=float32), dense_shape=Tensor(\"gradient_tape/private__graph_conv_keras_model/graph_conv_1/Cast_2:0\", shape=(2,), dtype=int32))) to a dense Tensor of unknown shape. This may consume a large amount of memory.\n",
            "  \"shape. This may consume a large amount of memory.\" % value)\n",
            "/usr/local/lib/python3.7/dist-packages/tensorflow/python/framework/indexed_slices.py:449: UserWarning: Converting sparse IndexedSlices(IndexedSlices(indices=Tensor(\"gradient_tape/private__graph_conv_keras_model/graph_conv_1/Reshape_17:0\", shape=(96,), dtype=int32), values=Tensor(\"gradient_tape/private__graph_conv_keras_model/graph_conv_1/Reshape_16:0\", shape=(96, 64), dtype=float32), dense_shape=Tensor(\"gradient_tape/private__graph_conv_keras_model/graph_conv_1/Cast_3:0\", shape=(2,), dtype=int32))) to a dense Tensor of unknown shape. This may consume a large amount of memory.\n",
            "  \"shape. This may consume a large amount of memory.\" % value)\n",
            "/usr/local/lib/python3.7/dist-packages/tensorflow/python/framework/indexed_slices.py:449: UserWarning: Converting sparse IndexedSlices(IndexedSlices(indices=Tensor(\"gradient_tape/private__graph_conv_keras_model/graph_pool/Reshape_14:0\", shape=(350,), dtype=int32), values=Tensor(\"gradient_tape/private__graph_conv_keras_model/graph_pool/Reshape_13:0\", shape=(350, 64), dtype=float32), dense_shape=Tensor(\"gradient_tape/private__graph_conv_keras_model/graph_pool/Cast_4:0\", shape=(2,), dtype=int32))) to a dense Tensor of unknown shape. This may consume a large amount of memory.\n",
            "  \"shape. This may consume a large amount of memory.\" % value)\n",
            "/usr/local/lib/python3.7/dist-packages/tensorflow/python/framework/indexed_slices.py:449: UserWarning: Converting sparse IndexedSlices(IndexedSlices(indices=Tensor(\"gradient_tape/private__graph_conv_keras_model/graph_pool/Reshape_17:0\", shape=(1040,), dtype=int32), values=Tensor(\"gradient_tape/private__graph_conv_keras_model/graph_pool/Reshape_16:0\", shape=(1040, 64), dtype=float32), dense_shape=Tensor(\"gradient_tape/private__graph_conv_keras_model/graph_pool/Cast_5:0\", shape=(2,), dtype=int32))) to a dense Tensor of unknown shape. This may consume a large amount of memory.\n",
            "  \"shape. This may consume a large amount of memory.\" % value)\n",
            "/usr/local/lib/python3.7/dist-packages/tensorflow/python/framework/indexed_slices.py:449: UserWarning: Converting sparse IndexedSlices(IndexedSlices(indices=Tensor(\"gradient_tape/private__graph_conv_keras_model/graph_pool/Reshape_20:0\", shape=(870,), dtype=int32), values=Tensor(\"gradient_tape/private__graph_conv_keras_model/graph_pool/Reshape_19:0\", shape=(870, 64), dtype=float32), dense_shape=Tensor(\"gradient_tape/private__graph_conv_keras_model/graph_pool/Cast_6:0\", shape=(2,), dtype=int32))) to a dense Tensor of unknown shape. This may consume a large amount of memory.\n",
            "  \"shape. This may consume a large amount of memory.\" % value)\n",
            "/usr/local/lib/python3.7/dist-packages/tensorflow/python/framework/indexed_slices.py:449: UserWarning: Converting sparse IndexedSlices(IndexedSlices(indices=Tensor(\"gradient_tape/private__graph_conv_keras_model/graph_pool/Reshape_23:0\", shape=(96,), dtype=int32), values=Tensor(\"gradient_tape/private__graph_conv_keras_model/graph_pool/Reshape_22:0\", shape=(96, 64), dtype=float32), dense_shape=Tensor(\"gradient_tape/private__graph_conv_keras_model/graph_pool/Cast_7:0\", shape=(2,), dtype=int32))) to a dense Tensor of unknown shape. This may consume a large amount of memory.\n",
            "  \"shape. This may consume a large amount of memory.\" % value)\n",
            "/usr/local/lib/python3.7/dist-packages/tensorflow/python/framework/indexed_slices.py:449: UserWarning: Converting sparse IndexedSlices(IndexedSlices(indices=Tensor(\"gradient_tape/private__graph_conv_keras_model/graph_pool_1/Reshape_14:0\", shape=(None,), dtype=int32), values=Tensor(\"gradient_tape/private__graph_conv_keras_model/graph_pool_1/Reshape_13:0\", shape=(None, 64), dtype=float32), dense_shape=Tensor(\"gradient_tape/private__graph_conv_keras_model/graph_pool_1/Cast_4:0\", shape=(2,), dtype=int32))) to a dense Tensor of unknown shape. This may consume a large amount of memory.\n",
            "  \"shape. This may consume a large amount of memory.\" % value)\n",
            "/usr/local/lib/python3.7/dist-packages/tensorflow/python/framework/indexed_slices.py:449: UserWarning: Converting sparse IndexedSlices(IndexedSlices(indices=Tensor(\"gradient_tape/private__graph_conv_keras_model/graph_pool_1/Reshape_17:0\", shape=(None,), dtype=int32), values=Tensor(\"gradient_tape/private__graph_conv_keras_model/graph_pool_1/Reshape_16:0\", shape=(None, 64), dtype=float32), dense_shape=Tensor(\"gradient_tape/private__graph_conv_keras_model/graph_pool_1/Cast_5:0\", shape=(2,), dtype=int32))) to a dense Tensor of unknown shape. This may consume a large amount of memory.\n",
            "  \"shape. This may consume a large amount of memory.\" % value)\n",
            "/usr/local/lib/python3.7/dist-packages/tensorflow/python/framework/indexed_slices.py:449: UserWarning: Converting sparse IndexedSlices(IndexedSlices(indices=Tensor(\"gradient_tape/private__graph_conv_keras_model/graph_pool_1/Reshape_20:0\", shape=(None,), dtype=int32), values=Tensor(\"gradient_tape/private__graph_conv_keras_model/graph_pool_1/Reshape_19:0\", shape=(None, 64), dtype=float32), dense_shape=Tensor(\"gradient_tape/private__graph_conv_keras_model/graph_pool_1/Cast_6:0\", shape=(2,), dtype=int32))) to a dense Tensor of unknown shape. This may consume a large amount of memory.\n",
            "  \"shape. This may consume a large amount of memory.\" % value)\n",
            "/usr/local/lib/python3.7/dist-packages/tensorflow/python/framework/indexed_slices.py:449: UserWarning: Converting sparse IndexedSlices(IndexedSlices(indices=Tensor(\"gradient_tape/private__graph_conv_keras_model/graph_pool_1/Reshape_23:0\", shape=(None,), dtype=int32), values=Tensor(\"gradient_tape/private__graph_conv_keras_model/graph_pool_1/Reshape_22:0\", shape=(None, 64), dtype=float32), dense_shape=Tensor(\"gradient_tape/private__graph_conv_keras_model/graph_pool_1/Cast_7:0\", shape=(2,), dtype=int32))) to a dense Tensor of unknown shape. This may consume a large amount of memory.\n",
            "  \"shape. This may consume a large amount of memory.\" % value)\n",
            "/usr/local/lib/python3.7/dist-packages/tensorflow/python/framework/indexed_slices.py:449: UserWarning: Converting sparse IndexedSlices(IndexedSlices(indices=Tensor(\"gradient_tape/private__graph_conv_keras_model/graph_conv_1/Reshape_11:0\", shape=(None,), dtype=int32), values=Tensor(\"gradient_tape/private__graph_conv_keras_model/graph_conv_1/Reshape_10:0\", shape=(None, 64), dtype=float32), dense_shape=Tensor(\"gradient_tape/private__graph_conv_keras_model/graph_conv_1/Cast:0\", shape=(2,), dtype=int32))) to a dense Tensor of unknown shape. This may consume a large amount of memory.\n",
            "  \"shape. This may consume a large amount of memory.\" % value)\n",
            "/usr/local/lib/python3.7/dist-packages/tensorflow/python/framework/indexed_slices.py:449: UserWarning: Converting sparse IndexedSlices(IndexedSlices(indices=Tensor(\"gradient_tape/private__graph_conv_keras_model/graph_conv_1/Reshape_13:0\", shape=(None,), dtype=int32), values=Tensor(\"gradient_tape/private__graph_conv_keras_model/graph_conv_1/Reshape_12:0\", shape=(None, 64), dtype=float32), dense_shape=Tensor(\"gradient_tape/private__graph_conv_keras_model/graph_conv_1/Cast_1:0\", shape=(2,), dtype=int32))) to a dense Tensor of unknown shape. This may consume a large amount of memory.\n",
            "  \"shape. This may consume a large amount of memory.\" % value)\n",
            "/usr/local/lib/python3.7/dist-packages/tensorflow/python/framework/indexed_slices.py:449: UserWarning: Converting sparse IndexedSlices(IndexedSlices(indices=Tensor(\"gradient_tape/private__graph_conv_keras_model/graph_conv_1/Reshape_15:0\", shape=(None,), dtype=int32), values=Tensor(\"gradient_tape/private__graph_conv_keras_model/graph_conv_1/Reshape_14:0\", shape=(None, 64), dtype=float32), dense_shape=Tensor(\"gradient_tape/private__graph_conv_keras_model/graph_conv_1/Cast_2:0\", shape=(2,), dtype=int32))) to a dense Tensor of unknown shape. This may consume a large amount of memory.\n",
            "  \"shape. This may consume a large amount of memory.\" % value)\n",
            "/usr/local/lib/python3.7/dist-packages/tensorflow/python/framework/indexed_slices.py:449: UserWarning: Converting sparse IndexedSlices(IndexedSlices(indices=Tensor(\"gradient_tape/private__graph_conv_keras_model/graph_conv_1/Reshape_17:0\", shape=(None,), dtype=int32), values=Tensor(\"gradient_tape/private__graph_conv_keras_model/graph_conv_1/Reshape_16:0\", shape=(None, 64), dtype=float32), dense_shape=Tensor(\"gradient_tape/private__graph_conv_keras_model/graph_conv_1/Cast_3:0\", shape=(2,), dtype=int32))) to a dense Tensor of unknown shape. This may consume a large amount of memory.\n",
            "  \"shape. This may consume a large amount of memory.\" % value)\n",
            "/usr/local/lib/python3.7/dist-packages/tensorflow/python/framework/indexed_slices.py:449: UserWarning: Converting sparse IndexedSlices(IndexedSlices(indices=Tensor(\"gradient_tape/private__graph_conv_keras_model/graph_pool/Reshape_14:0\", shape=(None,), dtype=int32), values=Tensor(\"gradient_tape/private__graph_conv_keras_model/graph_pool/Reshape_13:0\", shape=(None, 64), dtype=float32), dense_shape=Tensor(\"gradient_tape/private__graph_conv_keras_model/graph_pool/Cast_4:0\", shape=(2,), dtype=int32))) to a dense Tensor of unknown shape. This may consume a large amount of memory.\n",
            "  \"shape. This may consume a large amount of memory.\" % value)\n",
            "/usr/local/lib/python3.7/dist-packages/tensorflow/python/framework/indexed_slices.py:449: UserWarning: Converting sparse IndexedSlices(IndexedSlices(indices=Tensor(\"gradient_tape/private__graph_conv_keras_model/graph_pool/Reshape_17:0\", shape=(None,), dtype=int32), values=Tensor(\"gradient_tape/private__graph_conv_keras_model/graph_pool/Reshape_16:0\", shape=(None, 64), dtype=float32), dense_shape=Tensor(\"gradient_tape/private__graph_conv_keras_model/graph_pool/Cast_5:0\", shape=(2,), dtype=int32))) to a dense Tensor of unknown shape. This may consume a large amount of memory.\n",
            "  \"shape. This may consume a large amount of memory.\" % value)\n",
            "/usr/local/lib/python3.7/dist-packages/tensorflow/python/framework/indexed_slices.py:449: UserWarning: Converting sparse IndexedSlices(IndexedSlices(indices=Tensor(\"gradient_tape/private__graph_conv_keras_model/graph_pool/Reshape_20:0\", shape=(None,), dtype=int32), values=Tensor(\"gradient_tape/private__graph_conv_keras_model/graph_pool/Reshape_19:0\", shape=(None, 64), dtype=float32), dense_shape=Tensor(\"gradient_tape/private__graph_conv_keras_model/graph_pool/Cast_6:0\", shape=(2,), dtype=int32))) to a dense Tensor of unknown shape. This may consume a large amount of memory.\n",
            "  \"shape. This may consume a large amount of memory.\" % value)\n",
            "/usr/local/lib/python3.7/dist-packages/tensorflow/python/framework/indexed_slices.py:449: UserWarning: Converting sparse IndexedSlices(IndexedSlices(indices=Tensor(\"gradient_tape/private__graph_conv_keras_model/graph_pool/Reshape_23:0\", shape=(None,), dtype=int32), values=Tensor(\"gradient_tape/private__graph_conv_keras_model/graph_pool/Reshape_22:0\", shape=(None, 64), dtype=float32), dense_shape=Tensor(\"gradient_tape/private__graph_conv_keras_model/graph_pool/Cast_7:0\", shape=(2,), dtype=int32))) to a dense Tensor of unknown shape. This may consume a large amount of memory.\n",
            "  \"shape. This may consume a large amount of memory.\" % value)\n"
          ]
        },
        {
          "output_type": "execute_result",
          "data": {
            "text/plain": [
              "0.10726743698120117"
            ]
          },
          "metadata": {},
          "execution_count": 15
        }
      ]
    },
    {
      "cell_type": "code",
      "metadata": {
        "colab": {
          "base_uri": "https://localhost:8080/"
        },
        "id": "RkNKiXe4R9Jw",
        "outputId": "69dd7bac-688b-4a9a-e94b-9fbdc94c970d"
      },
      "source": [
        "metric = dc.metrics.Metric(dc.metrics.pearson_r2_score)\n",
        "print(\"Training set score:\", model.evaluate(train_dataset, [metric], transformers))\n",
        "print(\"Test set score:\", model.evaluate(test_dataset, [metric], transformers))"
      ],
      "execution_count": null,
      "outputs": [
        {
          "output_type": "stream",
          "name": "stdout",
          "text": [
            "Training set score: {'pearson_r2_score': 0.9240049224326763}\n",
            "Test set score: {'pearson_r2_score': 0.6791652542922814}\n"
          ]
        }
      ]
    },
    {
      "cell_type": "code",
      "metadata": {
        "colab": {
          "base_uri": "https://localhost:8080/"
        },
        "id": "_obwZSkYSNCS",
        "outputId": "3fef359c-bb6e-4176-9c56-47e4d1f825f2"
      },
      "source": [
        "solubilities = model.predict_on_batch(test_dataset.X[:10])\n",
        "for molecule, solubility, test_solubility in zip(test_dataset.ids, solubilities, test_dataset.y):\n",
        "    print(solubility, test_solubility, molecule)"
      ],
      "execution_count": null,
      "outputs": [
        {
          "output_type": "stream",
          "name": "stdout",
          "text": [
            "[-1.5976019] [-1.60114461] c1cc2ccc3cccc4ccc(c1)c2c34\n",
            "[0.8869097] [0.20848251] Cc1cc(=O)[nH]c(=S)[nH]1\n",
            "[-1.1966829] [-0.01602738] Oc1ccc(cc1)C2(OC(=O)c3ccccc23)c4ccc(O)cc4 \n",
            "[-1.7811105] [-2.82191713] c1ccc2c(c1)cc3ccc4cccc5ccc2c3c45\n",
            "[-1.5775003] [-0.52891635] C1=Cc2cccc3cccc1c23\n",
            "[1.7674952] [1.10168349] CC1CO1\n",
            "[-0.42723668] [-0.88987406] CCN2c1ccccc1N(C)C(=S)c3cccnc23 \n",
            "[-0.9313792] [-0.52649706] CC12CCC3C(CCc4cc(O)ccc34)C2CCC1=O\n",
            "[-1.1108382] [-0.76358725] Cn2cc(c1ccccc1)c(=O)c(c2)c3cccc(c3)C(F)(F)F\n",
            "[0.13319024] [-0.64020358] ClC(Cl)(Cl)C(NC=O)N1C=CN(C=C1)C(NC=O)C(Cl)(Cl)Cl \n"
          ]
        }
      ]
    },
    {
      "cell_type": "code",
      "metadata": {
        "colab": {
          "base_uri": "https://localhost:8080/"
        },
        "id": "IT903vJsSQKs",
        "outputId": "d64eccc0-7a2a-4873-92bb-9fe48db0bee8"
      },
      "source": [
        "print(test_dataset)"
      ],
      "execution_count": null,
      "outputs": [
        {
          "output_type": "stream",
          "name": "stdout",
          "text": [
            "<DiskDataset X.shape: (113,), y.shape: (113, 1), w.shape: (113, 1), ids: ['c1cc2ccc3cccc4ccc(c1)c2c34' 'Cc1cc(=O)[nH]c(=S)[nH]1'\n",
            " 'Oc1ccc(cc1)C2(OC(=O)c3ccccc23)c4ccc(O)cc4 ' ...\n",
            " 'c1ccc2c(c1)ccc3c2ccc4c5ccccc5ccc43' 'Cc1occc1C(=O)Nc2ccccc2'\n",
            " 'OCC3OC(OCC2OC(OC(C#N)c1ccccc1)C(O)C(O)C2O)C(O)C(O)C3O '], task_names: ['measured log solubility in mols per litre']>\n"
          ]
        }
      ]
    },
    {
      "cell_type": "code",
      "metadata": {
        "colab": {
          "base_uri": "https://localhost:8080/"
        },
        "id": "2kdRh1EWSuf1",
        "outputId": "9d3d9895-865f-4131-a5aa-bc78a874c491"
      },
      "source": [
        "for X, y, w, id in test_dataset.itersamples():\n",
        "  print(y, id)"
      ],
      "execution_count": null,
      "outputs": [
        {
          "output_type": "stream",
          "name": "stdout",
          "text": [
            "[-1.60114461] c1cc2ccc3cccc4ccc(c1)c2c34\n",
            "[0.20848251] Cc1cc(=O)[nH]c(=S)[nH]1\n",
            "[-0.01602738] Oc1ccc(cc1)C2(OC(=O)c3ccccc23)c4ccc(O)cc4 \n",
            "[-2.82191713] c1ccc2c(c1)cc3ccc4cccc5ccc2c3c45\n",
            "[-0.52891635] C1=Cc2cccc3cccc1c23\n",
            "[1.10168349] CC1CO1\n",
            "[-0.88987406] CCN2c1ccccc1N(C)C(=S)c3cccnc23 \n",
            "[-0.52649706] CC12CCC3C(CCc4cc(O)ccc34)C2CCC1=O\n",
            "[-0.76358725] Cn2cc(c1ccccc1)c(=O)c(c2)c3cccc(c3)C(F)(F)F\n",
            "[-0.64020358] ClC(Cl)(Cl)C(NC=O)N1C=CN(C=C1)C(NC=O)C(Cl)(Cl)Cl \n",
            "[-0.38569452] COc2c1occc1cc3ccc(=O)oc23 \n",
            "[-0.62568785] CN2C(=C(O)c1ccccc1S2(=O)=O)C(=O)Nc3ccccn3 \n",
            "[-0.39585553] Cc3cc2nc1c(=O)[nH]c(=O)nc1n(CC(O)C(O)C(O)CO)c2cc3C\n",
            "[-2.05306753] c1ccc(cc1)c2ccc(cc2)c3ccccc3\n",
            "[-0.29666474] CC34CC(=O)C1C(CCC2=CC(=O)CCC12C)C3CCC4(=O) \n",
            "[-0.73213651] c1ccc2c(c1)sc3ccccc23\n",
            "[-1.27744393] CC23Cc1cnoc1C=C2CCC4C3CCC5(C)C4CCC5(O)C#C\n",
            "[0.0081655] OC(C(=O)c1ccccc1)c2ccccc2\n",
            "[0.97588054] OCC2OC(Oc1ccccc1CO)C(O)C(O)C2O\n",
            "[-0.10796031] CC3C2CCC1(C)C=CC(=O)C(=C1C2OC3=O)C\n",
            "[0.59847167] O=Cc2ccc1OCOc1c2 \n",
            "[-0.60149498] CC1CCCCC1NC(=O)Nc2ccccc2\n",
            "[-0.34988907] CC(=O)N(S(=O)c1ccc(N)cc1)c2onc(C)c2C \n",
            "[0.34686576] C1N(C(=O)NCC(C)C)C(=O)NC1\n",
            "[0.62750312] CNC(=O)Oc1ccccc1C2OCCO2\n",
            "[0.14848418] CC1=C(CCCO1)C(=O)Nc2ccccc2 \n",
            "[0.02268122] Cn2c(=O)on(c1ccc(Cl)c(Cl)c1)c2=O\n",
            "[-0.85310089] C1Cc2cccc3cccc1c23\n",
            "[-2.72079091] c1ccc2cc3c4cccc5cccc(c3cc2c1)c45\n",
            "[0.42476682] Nc1cc(nc(N)n1=O)N2CCCCC2 \n",
            "[0.01300407] O=c2c(C3CCCc4ccccc43)c(O)c1ccccc1o2 \n",
            "[-2.4851523] CC(C)C(Nc1ccc(cc1Cl)C(F)(F)F)C(=O)OC(C#N)c2cccc(Oc3ccccc3)c2\n",
            "[-2.15516147] Cc1c(F)c(F)c(COC(=O)C2C(C=C(Cl)C(F)(F)F)C2(C)C)c(F)c1F\n",
            "[1.00975056] c2ccc1[nH]nnc1c2\n",
            "[0.82588471] c2ccc1ocnc1c2\n",
            "[-0.90390593] CCOC(=O)c1cncn1C(C)c2ccccc2\n",
            "[-0.91067993] CCN2c1ccccc1N(C)C(=O)c3ccccc23 \n",
            "[-0.82455329] OCC(O)COC(=O)c1ccccc1Nc2ccnc3cc(Cl)ccc23\n",
            "[1.26909819] OCC1OC(OC2C(O)C(O)C(O)OC2CO)C(O)C(O)C1O\n",
            "[-1.14825397] CC34CCc1c(ccc2cc(O)ccc12)C3CCC4=O\n",
            "[-2.1343556] ClC1=C(Cl)C(Cl)(C(=C1Cl)Cl)C2(Cl)C(=C(Cl)C(=C2Cl)Cl)Cl\n",
            "[-1.15744727] ClC1(C(=O)C2(Cl)C3(Cl)C14Cl)C5(Cl)C2(Cl)C3(Cl)C(Cl)(Cl)C45Cl\n",
            "[-0.1045733] Oc1ccc(c(O)c1)c3oc2cc(O)cc(O)c2c(=O)c3O \n",
            "[0.53073162] C1SC(=S)NC1(=O)\n",
            "[-1.22567118] ClC(Cl)C(Cl)(Cl)SN2C(=O)C1CC=CCC1C2=O \n",
            "[-1.66452995] ClC1=C(Cl)C2(Cl)C3C4CC(C=C4)C3C1(Cl)C2(Cl)Cl\n",
            "[0.24525568] CC(=O)Nc1nnc(s1)S(N)(=O)=O \n",
            "[-0.13215318] CC1=C(SCCO1)C(=O)Nc2ccccc2\n",
            "[-0.97067826] CN(C(=O)COc1nc2ccccc2s1)c3ccccc3\n",
            "[-0.23376326] CN(C(=O)NC(C)(C)c1ccccc1)c2ccccc2\n",
            "[1.21297072] Nc1nccs1 \n",
            "[-1.2595412] CN(C=Nc1ccc(C)cc1C)C=Nc2ccc(C)cc2C\n",
            "[0.49686159] OCC(O)C2OC1OC(OC1C2O)C(Cl)(Cl)Cl \n",
            "[0.22396595] Nc3nc(N)c2nc(c1ccccc1)c(N)nc2n3\n",
            "[-0.44182199] CC2Nc1cc(Cl)c(cc1C(=O)N2c3ccccc3C)S(N)(=O)=O \n",
            "[0.47895886] CN1CC(O)N(C1=O)c2nnc(s2)C(C)(C)C\n",
            "[0.08267956] CCC1(C(=O)NC(=O)NC1=O)C2=CCC3CCC2C3\n",
            "[-1.51840498] CCC(C)C(=O)OC2CC(C)C=C3C=CC(C)C(CCC1CC(O)CC(=O)O1)C23 \n",
            "[-0.34795364] CC2Cc1ccccc1N2NC(=O)c3ccc(Cl)c(c3)S(N)(=O)=O \n",
            "[-0.83858516] o1c2ccccc2c3ccccc13\n",
            "[-0.13699176] O=C(Nc1ccccc1)Nc2ccccc2\n",
            "[-2.59498796] c1ccc2c(c1)c3cccc4c3c2cc5ccccc54\n",
            "[0.13106531] COc1ccc(cc1)C(O)(C2CC2)c3cncnc3 \n",
            "[0.09042128] c1cnc2c(c1)ccc3ncccc23\n",
            "[1.18877785] OCC1OC(CO)(OC2OC(COC3OC(CO)C(O)C(O)C3O)C(O)C(O)C2O)C(O)C1O\n",
            "[-0.82697258] CCOC(=O)c1ccccc1S(=O)(=O)NN(C=O)c2nc(Cl)cc(OC)n2\n",
            "[-1.16857599] CC34CCC1C(=CCc2cc(O)ccc12)C3CCC4=O\n",
            "[0.37589721] CN(C)C(=O)Oc1cc(C)nn1c2ccccc2\n",
            "[-0.24344041] OC(Cn1cncn1)(c2ccc(F)cc2)c3ccccc3F\n",
            "[-2.00952036] Cc1c2ccccc2c(C)c3ccc4ccccc4c13\n",
            "[-0.59181783] Cc3nnc4CN=C(c1ccccc1Cl)c2cc(Cl)ccc2n34\n",
            "[-0.15634606] Cc3ccnc4N(C1CC1)c2ncccc2C(=O)Nc34 \n",
            "[-2.87272217] c1cc2cccc3c4cccc5cccc(c(c1)c23)c54\n",
            "[-0.34069577] COc1cc(cc(OC)c1O)C6C2C(COC2=O)C(OC4OC3COC(C)OC3C(O)C4O)c7cc5OCOc5cc67\n",
            "[0.27622256] O=c1[nH]cnc2nc[nH]c12 \n",
            "[-2.15467761] C1C(O)CCC2(C)CC3CCC4(C)C5(C)CC6OCC(C)CC6OC5CC4C3C=C21\n",
            "[-0.02812382] Cc1ccccc1n3c(C)nc2ccccc2c3=O\n",
            "[-2.77401524] CCOc1ccc(cc1)C(C)(C)COCc3cccc(Oc2ccccc2)c3\n",
            "[0.25638441] CCC1(CCC(=O)NC1=O)c2ccccc2 \n",
            "[0.84040043] CC1CC(C)C(=O)C(C1)C(O)CC2CC(=O)NC(=O)C2 \n",
            "[-0.86277804] CC(=O)C3CCC4C2CC=C1CC(O)CCC1(C)C2CCC34C \n",
            "[-1.52082426] Cc1ccc(OP(=O)(Oc2cccc(C)c2)Oc3ccccc3C)cc1\n",
            "[0.29702844] CSc1nnc(c(=O)n1N)C(C)(C)C\n",
            "[0.44363727] Nc1ncnc2n(ccc12)C3OC(CO)C(O)C3O \n",
            "[0.47460415] O=C2NC(=O)C1(CC1)C(=O)N2 \n",
            "[-0.08376743] C1Cc2ccccc2C1\n",
            "[0.68556602] c1ccc2cnccc2c1\n",
            "[0.79201468] OCC1OC(C(O)C1O)n2cnc3c(O)ncnc23\n",
            "[-1.2401869] c2(Cl)c(Cl)c(Cl)c1nccnc1c2(Cl) \n",
            "[0.6129874] C1OC1c2ccccc2 \n",
            "[-0.58214068] CCC(=C(CC)c1ccc(O)cc1)c2ccc(O)cc2 \n",
            "[-1.51598569] c1ccc2c(c1)c3cccc4cccc2c34\n",
            "[-1.93984487] CC(C)C(C(=O)OC(C#N)c1cccc(Oc2ccccc2)c1)c3ccc(OC(F)F)cc3\n",
            "[-0.30295489] CCCC1COC(Cn2cncn2)(O1)c3ccc(Cl)cc3Cl\n",
            "[-0.24827899] O=C2CN(N=Cc1ccc(o1)N(=O)=O)C(=O)N2 \n",
            "[1.06442646] NC(=O)c1cnccn1\n",
            "[-1.48259952] OC4=C(C1CCC(CC1)c2ccc(Cl)cc2)C(=O)c3ccccc3C4=O\n",
            "[0.0275198] O=C(Cn1ccnc1N(=O)=O)NCc2ccccc2\n",
            "[0.33718861] CCC1(C(=O)NC(=O)NC1=O)C2=CCCCC2 \n",
            "[-0.91600236] COC(=O)C1=C(C)NC(=C(C1c2ccccc2N(=O)=O)C(=O)OC)C \n",
            "[0.58637523] O=C2NC(=O)C1(CCC1)C(=O)N2\n",
            "[-0.62084928] CCCOP(=S)(OCCC)SCC(=O)N1CCCCC1C\n",
            "[-0.30827732] N(c1ccccc1)c2ccccc2\n",
            "[-1.95145746] ClC(Cl)=C(c1ccc(Cl)cc1)c2ccc(Cl)cc2\n",
            "[-0.83568202] O=c2[nH]c1CCCc1c(=O)n2C3CCCCC3\n",
            "[0.10977558] CCC1(C(=O)NCNC1=O)c2ccccc2\n",
            "[1.90488697] O=C1CCCN1\n",
            "[-0.75149081] COc5cc4OCC3Oc2c1CC(Oc1ccc2C(=O)C3c4cc5OC)C(C)=C \n",
            "[-1.65630437] ClC4=C(Cl)C5(Cl)C3C1CC(C2OC12)C3C4(Cl)C5(Cl)Cl\n",
            "[0.74362893] c1ccsc1\n",
            "[-2.42079925] c1ccc2c(c1)ccc3c2ccc4c5ccccc5ccc43\n",
            "[-0.20957039] Cc1occc1C(=O)Nc2ccccc2\n",
            "[1.01458914] OCC3OC(OCC2OC(OC(C#N)c1ccccc1)C(O)C(O)C2O)C(O)C(O)C3O \n"
          ]
        }
      ]
    },
    {
      "cell_type": "code",
      "metadata": {
        "colab": {
          "base_uri": "https://localhost:8080/"
        },
        "id": "25ETupWBS9SR",
        "outputId": "6e61d2d3-e680-4ee3-f8cc-b97252207a24"
      },
      "source": [
        "print(y, id) #이렇게 하면 하나만 출력되니까 for문을 돌려야함 :)"
      ],
      "execution_count": null,
      "outputs": [
        {
          "output_type": "stream",
          "name": "stdout",
          "text": [
            "[1.01458914] OCC3OC(OCC2OC(OC(C#N)c1ccccc1)C(O)C(O)C2O)C(O)C(O)C3O \n"
          ]
        }
      ]
    },
    {
      "cell_type": "code",
      "metadata": {
        "colab": {
          "base_uri": "https://localhost:8080/"
        },
        "id": "Ryu3Ixv8TVJ7",
        "outputId": "da123637-6d21-45c5-bda4-9929f7d252c0"
      },
      "source": [
        "for X, y, w, ids in test_dataset.iterbatches(batch_size=50):\n",
        "  print(y.shape)"
      ],
      "execution_count": null,
      "outputs": [
        {
          "output_type": "stream",
          "name": "stdout",
          "text": [
            "(50, 1)\n",
            "(50, 1)\n",
            "(13, 1)\n"
          ]
        }
      ]
    },
    {
      "cell_type": "markdown",
      "metadata": {
        "id": "QVdlRGpKT1Ay"
      },
      "source": [
        "# **Creating Datasets**"
      ]
    },
    {
      "cell_type": "code",
      "metadata": {
        "colab": {
          "base_uri": "https://localhost:8080/"
        },
        "id": "1whwQ9IITsPU",
        "outputId": "cd3492c7-d356-497f-b1c7-93dab5096bd3"
      },
      "source": [
        "import numpy as np\n",
        "\n",
        "X = np.random.random((10, 5))\n",
        "y = np.random.random((10, 2))\n",
        "dataset = dc.data.NumpyDataset(X=X, y=y)\n",
        "print(dataset)"
      ],
      "execution_count": null,
      "outputs": [
        {
          "output_type": "stream",
          "name": "stdout",
          "text": [
            "<NumpyDataset X.shape: (10, 5), y.shape: (10, 2), w.shape: (10, 1), ids: [0 1 2 3 4 5 6 7 8 9], task_names: [0 1]>\n"
          ]
        }
      ]
    },
    {
      "cell_type": "code",
      "metadata": {
        "colab": {
          "base_uri": "https://localhost:8080/",
          "height": 357
        },
        "id": "Nur4UiDDUHmV",
        "outputId": "f1cd9c9d-690c-4b8d-e928-2e9ad5cbf9b1"
      },
      "source": [
        "dataset.to_dataframe()"
      ],
      "execution_count": null,
      "outputs": [
        {
          "output_type": "execute_result",
          "data": {
            "text/html": [
              "<div>\n",
              "<style scoped>\n",
              "    .dataframe tbody tr th:only-of-type {\n",
              "        vertical-align: middle;\n",
              "    }\n",
              "\n",
              "    .dataframe tbody tr th {\n",
              "        vertical-align: top;\n",
              "    }\n",
              "\n",
              "    .dataframe thead th {\n",
              "        text-align: right;\n",
              "    }\n",
              "</style>\n",
              "<table border=\"1\" class=\"dataframe\">\n",
              "  <thead>\n",
              "    <tr style=\"text-align: right;\">\n",
              "      <th></th>\n",
              "      <th>X1</th>\n",
              "      <th>X2</th>\n",
              "      <th>X3</th>\n",
              "      <th>X4</th>\n",
              "      <th>X5</th>\n",
              "      <th>y1</th>\n",
              "      <th>y2</th>\n",
              "      <th>w</th>\n",
              "      <th>ids</th>\n",
              "    </tr>\n",
              "  </thead>\n",
              "  <tbody>\n",
              "    <tr>\n",
              "      <th>0</th>\n",
              "      <td>0.651789</td>\n",
              "      <td>0.500985</td>\n",
              "      <td>0.129057</td>\n",
              "      <td>0.434669</td>\n",
              "      <td>0.179178</td>\n",
              "      <td>0.114869</td>\n",
              "      <td>0.706409</td>\n",
              "      <td>1.0</td>\n",
              "      <td>0</td>\n",
              "    </tr>\n",
              "    <tr>\n",
              "      <th>1</th>\n",
              "      <td>0.084574</td>\n",
              "      <td>0.581001</td>\n",
              "      <td>0.038852</td>\n",
              "      <td>0.317933</td>\n",
              "      <td>0.526755</td>\n",
              "      <td>0.087399</td>\n",
              "      <td>0.433153</td>\n",
              "      <td>1.0</td>\n",
              "      <td>1</td>\n",
              "    </tr>\n",
              "    <tr>\n",
              "      <th>2</th>\n",
              "      <td>0.491032</td>\n",
              "      <td>0.675981</td>\n",
              "      <td>0.145317</td>\n",
              "      <td>0.954887</td>\n",
              "      <td>0.131574</td>\n",
              "      <td>0.541805</td>\n",
              "      <td>0.574348</td>\n",
              "      <td>1.0</td>\n",
              "      <td>2</td>\n",
              "    </tr>\n",
              "    <tr>\n",
              "      <th>3</th>\n",
              "      <td>0.425356</td>\n",
              "      <td>0.510059</td>\n",
              "      <td>0.184388</td>\n",
              "      <td>0.981758</td>\n",
              "      <td>0.286999</td>\n",
              "      <td>0.934743</td>\n",
              "      <td>0.132796</td>\n",
              "      <td>1.0</td>\n",
              "      <td>3</td>\n",
              "    </tr>\n",
              "    <tr>\n",
              "      <th>4</th>\n",
              "      <td>0.402253</td>\n",
              "      <td>0.559620</td>\n",
              "      <td>0.917204</td>\n",
              "      <td>0.094059</td>\n",
              "      <td>0.714575</td>\n",
              "      <td>0.963304</td>\n",
              "      <td>0.410299</td>\n",
              "      <td>1.0</td>\n",
              "      <td>4</td>\n",
              "    </tr>\n",
              "    <tr>\n",
              "      <th>5</th>\n",
              "      <td>0.139989</td>\n",
              "      <td>0.578889</td>\n",
              "      <td>0.550969</td>\n",
              "      <td>0.067983</td>\n",
              "      <td>0.276781</td>\n",
              "      <td>0.367332</td>\n",
              "      <td>0.906457</td>\n",
              "      <td>1.0</td>\n",
              "      <td>5</td>\n",
              "    </tr>\n",
              "    <tr>\n",
              "      <th>6</th>\n",
              "      <td>0.854588</td>\n",
              "      <td>0.276907</td>\n",
              "      <td>0.038557</td>\n",
              "      <td>0.371790</td>\n",
              "      <td>0.059395</td>\n",
              "      <td>0.010884</td>\n",
              "      <td>0.496280</td>\n",
              "      <td>1.0</td>\n",
              "      <td>6</td>\n",
              "    </tr>\n",
              "    <tr>\n",
              "      <th>7</th>\n",
              "      <td>0.250594</td>\n",
              "      <td>0.255596</td>\n",
              "      <td>0.535847</td>\n",
              "      <td>0.053456</td>\n",
              "      <td>0.933496</td>\n",
              "      <td>0.829728</td>\n",
              "      <td>0.349046</td>\n",
              "      <td>1.0</td>\n",
              "      <td>7</td>\n",
              "    </tr>\n",
              "    <tr>\n",
              "      <th>8</th>\n",
              "      <td>0.822047</td>\n",
              "      <td>0.069210</td>\n",
              "      <td>0.131451</td>\n",
              "      <td>0.426764</td>\n",
              "      <td>0.650935</td>\n",
              "      <td>0.769784</td>\n",
              "      <td>0.590483</td>\n",
              "      <td>1.0</td>\n",
              "      <td>8</td>\n",
              "    </tr>\n",
              "    <tr>\n",
              "      <th>9</th>\n",
              "      <td>0.263408</td>\n",
              "      <td>0.478904</td>\n",
              "      <td>0.424562</td>\n",
              "      <td>0.291548</td>\n",
              "      <td>0.981457</td>\n",
              "      <td>0.169648</td>\n",
              "      <td>0.437793</td>\n",
              "      <td>1.0</td>\n",
              "      <td>9</td>\n",
              "    </tr>\n",
              "  </tbody>\n",
              "</table>\n",
              "</div>"
            ],
            "text/plain": [
              "         X1        X2        X3        X4  ...        y1        y2    w  ids\n",
              "0  0.651789  0.500985  0.129057  0.434669  ...  0.114869  0.706409  1.0    0\n",
              "1  0.084574  0.581001  0.038852  0.317933  ...  0.087399  0.433153  1.0    1\n",
              "2  0.491032  0.675981  0.145317  0.954887  ...  0.541805  0.574348  1.0    2\n",
              "3  0.425356  0.510059  0.184388  0.981758  ...  0.934743  0.132796  1.0    3\n",
              "4  0.402253  0.559620  0.917204  0.094059  ...  0.963304  0.410299  1.0    4\n",
              "5  0.139989  0.578889  0.550969  0.067983  ...  0.367332  0.906457  1.0    5\n",
              "6  0.854588  0.276907  0.038557  0.371790  ...  0.010884  0.496280  1.0    6\n",
              "7  0.250594  0.255596  0.535847  0.053456  ...  0.829728  0.349046  1.0    7\n",
              "8  0.822047  0.069210  0.131451  0.426764  ...  0.769784  0.590483  1.0    8\n",
              "9  0.263408  0.478904  0.424562  0.291548  ...  0.169648  0.437793  1.0    9\n",
              "\n",
              "[10 rows x 9 columns]"
            ]
          },
          "metadata": {},
          "execution_count": 23
        }
      ]
    },
    {
      "cell_type": "code",
      "metadata": {
        "colab": {
          "base_uri": "https://localhost:8080/"
        },
        "id": "mTNoTjGOUKdz",
        "outputId": "bfbaf7cd-e9db-4066-9b9d-ed1f66c95607"
      },
      "source": [
        "import tempfile\n",
        "with tempfile.TemporaryDirectory() as data_dir:\n",
        "  disk_dataset = dc.data.DiskDataset.from_numpy(X=X, y=y, data_dir=data_dir)\n",
        "  print(disk_dataset)"
      ],
      "execution_count": null,
      "outputs": [
        {
          "output_type": "stream",
          "name": "stdout",
          "text": [
            "<DiskDataset X.shape: (10, 5), y.shape: (10, 2), w.shape: (10, 1), ids: [0 1 2 3 4 5 6 7 8 9], task_names: [0 1]>\n"
          ]
        }
      ]
    },
    {
      "cell_type": "code",
      "metadata": {
        "colab": {
          "base_uri": "https://localhost:8080/"
        },
        "id": "EvvNJTqEUgzQ",
        "outputId": "586ad48e-a02c-4dd9-f38c-04ef62cf3a71"
      },
      "source": [
        "[method for method in dir(dc.molnet) if \"load_\" in method ]"
      ],
      "execution_count": null,
      "outputs": [
        {
          "output_type": "execute_result",
          "data": {
            "text/plain": [
              "['load_Platinum_Adsorption',\n",
              " 'load_bace_classification',\n",
              " 'load_bace_regression',\n",
              " 'load_bandgap',\n",
              " 'load_bbbc001',\n",
              " 'load_bbbc002',\n",
              " 'load_bbbp',\n",
              " 'load_cell_counting',\n",
              " 'load_chembl',\n",
              " 'load_chembl25',\n",
              " 'load_clearance',\n",
              " 'load_clintox',\n",
              " 'load_delaney',\n",
              " 'load_factors',\n",
              " 'load_freesolv',\n",
              " 'load_function',\n",
              " 'load_hiv',\n",
              " 'load_hopv',\n",
              " 'load_hppb',\n",
              " 'load_kaggle',\n",
              " 'load_kinase',\n",
              " 'load_lipo',\n",
              " 'load_mp_formation_energy',\n",
              " 'load_mp_metallicity',\n",
              " 'load_muv',\n",
              " 'load_nci',\n",
              " 'load_pcba',\n",
              " 'load_pdbbind',\n",
              " 'load_perovskite',\n",
              " 'load_ppb',\n",
              " 'load_qm7',\n",
              " 'load_qm8',\n",
              " 'load_qm9',\n",
              " 'load_sampl',\n",
              " 'load_sider',\n",
              " 'load_sweet',\n",
              " 'load_thermosol',\n",
              " 'load_tox21',\n",
              " 'load_toxcast',\n",
              " 'load_uspto',\n",
              " 'load_uv',\n",
              " 'load_zinc15']"
            ]
          },
          "metadata": {},
          "execution_count": 25
        }
      ]
    },
    {
      "cell_type": "code",
      "metadata": {
        "colab": {
          "base_uri": "https://localhost:8080/"
        },
        "id": "m6z_kpQYUttN",
        "outputId": "14fa91af-1099-41dc-befa-14dfa9991154"
      },
      "source": [
        "len([method for method in dir(dc.molnet) if \"load_\" in method ])"
      ],
      "execution_count": null,
      "outputs": [
        {
          "output_type": "execute_result",
          "data": {
            "text/plain": [
              "42"
            ]
          },
          "metadata": {},
          "execution_count": 26
        }
      ]
    },
    {
      "cell_type": "markdown",
      "metadata": {
        "id": "5ikpjIgfU1t_"
      },
      "source": [
        "# **MoleculeNet**"
      ]
    },
    {
      "cell_type": "code",
      "metadata": {
        "colab": {
          "base_uri": "https://localhost:8080/"
        },
        "id": "yjma9CabUvKs",
        "outputId": "8cf3cf0d-95be-4255-8488-fc8f14eba622"
      },
      "source": [
        "tasks"
      ],
      "execution_count": null,
      "outputs": [
        {
          "output_type": "execute_result",
          "data": {
            "text/plain": [
              "['measured log solubility in mols per litre']"
            ]
          },
          "metadata": {},
          "execution_count": 27
        }
      ]
    },
    {
      "cell_type": "code",
      "metadata": {
        "colab": {
          "base_uri": "https://localhost:8080/"
        },
        "id": "9iJKQRTwVNuY",
        "outputId": "7cf7cc44-3bbb-4f87-9c07-37fbdbe9f2b6"
      },
      "source": [
        "datasets"
      ],
      "execution_count": null,
      "outputs": [
        {
          "output_type": "execute_result",
          "data": {
            "text/plain": [
              "(<DiskDataset X.shape: (902,), y.shape: (902, 1), w.shape: (902, 1), ids: ['CC(C)=CCCC(C)=CC(=O)' 'CCCC=C' 'CCCCCCCCCCCCCC' ...\n",
              "  'Nc2cccc3nc1ccccc1cc23 ' 'C1CCCCCC1' 'OC1CCCCCC1'], task_names: ['measured log solubility in mols per litre']>,\n",
              " <DiskDataset X.shape: (113,), y.shape: (113, 1), w.shape: (113, 1), ids: ['Nc1ncnc2nc[nH]c12 ' 'Nc1nc(O)nc2nc[nH]c12 '\n",
              "  'Fc1cccc(F)c1C(=O)NC(=O)Nc2cc(Cl)c(F)c(Cl)c2F ' ...\n",
              "  'OC(Cn1cncn1)(Cn2cncn2)c3ccc(F)cc3F '\n",
              "  'FC(F)(F)c1cccc(c1)N2CC(CCl)C(Cl)C2=O' 'CC1(C)CON(Cc2ccccc2Cl)C1=O'], task_names: ['measured log solubility in mols per litre']>,\n",
              " <DiskDataset X.shape: (113,), y.shape: (113, 1), w.shape: (113, 1), ids: ['c1cc2ccc3cccc4ccc(c1)c2c34' 'Cc1cc(=O)[nH]c(=S)[nH]1'\n",
              "  'Oc1ccc(cc1)C2(OC(=O)c3ccccc23)c4ccc(O)cc4 ' ...\n",
              "  'c1ccc2c(c1)ccc3c2ccc4c5ccccc5ccc43' 'Cc1occc1C(=O)Nc2ccccc2'\n",
              "  'OCC3OC(OCC2OC(OC(C#N)c1ccccc1)C(O)C(O)C2O)C(O)C(O)C3O '], task_names: ['measured log solubility in mols per litre']>)"
            ]
          },
          "metadata": {},
          "execution_count": 28
        }
      ]
    },
    {
      "cell_type": "code",
      "metadata": {
        "id": "gb8WrjUAVPby"
      },
      "source": [
        "train, valid, test = datasets"
      ],
      "execution_count": null,
      "outputs": []
    },
    {
      "cell_type": "code",
      "metadata": {
        "colab": {
          "base_uri": "https://localhost:8080/"
        },
        "id": "yMa3lzcpVTa2",
        "outputId": "b5740467-28de-4d7b-9963-ac46b47076be"
      },
      "source": [
        "train"
      ],
      "execution_count": null,
      "outputs": [
        {
          "output_type": "execute_result",
          "data": {
            "text/plain": [
              "<DiskDataset X.shape: (902,), y.shape: (902, 1), w.shape: (902, 1), ids: ['CC(C)=CCCC(C)=CC(=O)' 'CCCC=C' 'CCCCCCCCCCCCCC' ...\n",
              " 'Nc2cccc3nc1ccccc1cc23 ' 'C1CCCCCC1' 'OC1CCCCCC1'], task_names: ['measured log solubility in mols per litre']>"
            ]
          },
          "metadata": {},
          "execution_count": 30
        }
      ]
    },
    {
      "cell_type": "code",
      "metadata": {
        "colab": {
          "base_uri": "https://localhost:8080/"
        },
        "id": "WCygQbzyVUNa",
        "outputId": "e887a3ba-978b-4f97-c5df-551b51bf0a60"
      },
      "source": [
        "valid"
      ],
      "execution_count": null,
      "outputs": [
        {
          "output_type": "execute_result",
          "data": {
            "text/plain": [
              "<DiskDataset X.shape: (113,), y.shape: (113, 1), w.shape: (113, 1), ids: ['Nc1ncnc2nc[nH]c12 ' 'Nc1nc(O)nc2nc[nH]c12 '\n",
              " 'Fc1cccc(F)c1C(=O)NC(=O)Nc2cc(Cl)c(F)c(Cl)c2F ' ...\n",
              " 'OC(Cn1cncn1)(Cn2cncn2)c3ccc(F)cc3F '\n",
              " 'FC(F)(F)c1cccc(c1)N2CC(CCl)C(Cl)C2=O' 'CC1(C)CON(Cc2ccccc2Cl)C1=O'], task_names: ['measured log solubility in mols per litre']>"
            ]
          },
          "metadata": {},
          "execution_count": 31
        }
      ]
    },
    {
      "cell_type": "code",
      "metadata": {
        "colab": {
          "base_uri": "https://localhost:8080/"
        },
        "id": "DtV3Z0NtVVFx",
        "outputId": "4d898393-133b-41cb-e52d-ee2aa56f92e4"
      },
      "source": [
        "test"
      ],
      "execution_count": null,
      "outputs": [
        {
          "output_type": "execute_result",
          "data": {
            "text/plain": [
              "<DiskDataset X.shape: (113,), y.shape: (113, 1), w.shape: (113, 1), ids: ['c1cc2ccc3cccc4ccc(c1)c2c34' 'Cc1cc(=O)[nH]c(=S)[nH]1'\n",
              " 'Oc1ccc(cc1)C2(OC(=O)c3ccccc23)c4ccc(O)cc4 ' ...\n",
              " 'c1ccc2c(c1)ccc3c2ccc4c5ccccc5ccc43' 'Cc1occc1C(=O)Nc2ccccc2'\n",
              " 'OCC3OC(OCC2OC(OC(C#N)c1ccccc1)C(O)C(O)C2O)C(O)C(O)C3O '], task_names: ['measured log solubility in mols per litre']>"
            ]
          },
          "metadata": {},
          "execution_count": 32
        }
      ]
    },
    {
      "cell_type": "code",
      "metadata": {
        "colab": {
          "base_uri": "https://localhost:8080/"
        },
        "id": "VCXLRi_iVWP8",
        "outputId": "245beace-c285-44f9-8726-da9ab91bbc9f"
      },
      "source": [
        "train.X[0]"
      ],
      "execution_count": null,
      "outputs": [
        {
          "output_type": "execute_result",
          "data": {
            "text/plain": [
              "<deepchem.feat.mol_graphs.ConvMol at 0x7fe6ef45dc90>"
            ]
          },
          "metadata": {},
          "execution_count": 33
        }
      ]
    },
    {
      "cell_type": "code",
      "metadata": {
        "colab": {
          "base_uri": "https://localhost:8080/"
        },
        "id": "EtIWW_gGVYbX",
        "outputId": "a6caadb7-9ab3-4372-9f41-862c2405c3ea"
      },
      "source": [
        "transformers"
      ],
      "execution_count": null,
      "outputs": [
        {
          "output_type": "execute_result",
          "data": {
            "text/plain": [
              "[<deepchem.trans.transformers.NormalizationTransformer at 0x7fe6ec24d810>]"
            ]
          },
          "metadata": {},
          "execution_count": 34
        }
      ]
    },
    {
      "cell_type": "code",
      "metadata": {
        "id": "H7IECItAVa2i"
      },
      "source": [
        "tasks, datasets, transformers = dc.molnet.load_delaney(featurizer=\"ECFP\", splitter=\"scaffold\")"
      ],
      "execution_count": null,
      "outputs": []
    },
    {
      "cell_type": "code",
      "metadata": {
        "id": "9Y2aHk8KVe0y"
      },
      "source": [
        "(train, valid, test) = datasets"
      ],
      "execution_count": null,
      "outputs": []
    },
    {
      "cell_type": "code",
      "metadata": {
        "colab": {
          "base_uri": "https://localhost:8080/"
        },
        "id": "Z88BuyBZVqdA",
        "outputId": "034d3b6e-e472-4e59-ea26-ad4d9fe41c2d"
      },
      "source": [
        "train"
      ],
      "execution_count": null,
      "outputs": [
        {
          "output_type": "execute_result",
          "data": {
            "text/plain": [
              "<DiskDataset X.shape: (902, 1024), y.shape: (902, 1), w.shape: (902, 1), ids: ['CC(C)=CCCC(C)=CC(=O)' 'CCCC=C' 'CCCCCCCCCCCCCC' ...\n",
              " 'Nc2cccc3nc1ccccc1cc23 ' 'C1CCCCCC1' 'OC1CCCCCC1'], task_names: ['measured log solubility in mols per litre']>"
            ]
          },
          "metadata": {},
          "execution_count": 37
        }
      ]
    },
    {
      "cell_type": "code",
      "metadata": {
        "colab": {
          "base_uri": "https://localhost:8080/"
        },
        "id": "aKy3dJJlVtKd",
        "outputId": "14648f56-3ff5-42a6-c1c1-82458985b25b"
      },
      "source": [
        "train.X[0]"
      ],
      "execution_count": null,
      "outputs": [
        {
          "output_type": "execute_result",
          "data": {
            "text/plain": [
              "array([0., 0., 0., ..., 0., 0., 0.])"
            ]
          },
          "metadata": {},
          "execution_count": 38
        }
      ]
    },
    {
      "cell_type": "code",
      "metadata": {
        "id": "sHzgi3DnVunf"
      },
      "source": [
        "import deepchem as dp\n",
        "import numpy as np"
      ],
      "execution_count": null,
      "outputs": []
    },
    {
      "cell_type": "code",
      "metadata": {
        "id": "61QCCrSN6--S"
      },
      "source": [
        "x = np.random.random((4, 5))\n",
        "y = np.random.random((4, 1))"
      ],
      "execution_count": null,
      "outputs": []
    },
    {
      "cell_type": "code",
      "metadata": {
        "colab": {
          "base_uri": "https://localhost:8080/"
        },
        "id": "_0l1OsyN7MWq",
        "outputId": "b81760ab-2899-418e-b614-7729f428e887"
      },
      "source": [
        "x"
      ],
      "execution_count": null,
      "outputs": [
        {
          "output_type": "execute_result",
          "data": {
            "text/plain": [
              "array([[0.57216657, 0.50576806, 0.66252111, 0.53599464, 0.19204482],\n",
              "       [0.38571697, 0.45989269, 0.08348221, 0.83393047, 0.61552424],\n",
              "       [0.32564672, 0.85446369, 0.61780513, 0.47630403, 0.31285117],\n",
              "       [0.58280655, 0.53701563, 0.20483664, 0.742015  , 0.91662074]])"
            ]
          },
          "metadata": {},
          "execution_count": 42
        }
      ]
    },
    {
      "cell_type": "code",
      "metadata": {
        "id": "8cKzwARZ7Qty"
      },
      "source": [
        "dataset = dc.data.NumpyDataset(x, y)"
      ],
      "execution_count": null,
      "outputs": []
    },
    {
      "cell_type": "code",
      "metadata": {
        "colab": {
          "base_uri": "https://localhost:8080/"
        },
        "id": "nPQsxRq67Uui",
        "outputId": "25726991-1561-4941-9dff-f9124146c46b"
      },
      "source": [
        "print(dataset.X)"
      ],
      "execution_count": null,
      "outputs": [
        {
          "output_type": "stream",
          "name": "stdout",
          "text": [
            "[[0.57216657 0.50576806 0.66252111 0.53599464 0.19204482]\n",
            " [0.38571697 0.45989269 0.08348221 0.83393047 0.61552424]\n",
            " [0.32564672 0.85446369 0.61780513 0.47630403 0.31285117]\n",
            " [0.58280655 0.53701563 0.20483664 0.742015   0.91662074]]\n"
          ]
        }
      ]
    },
    {
      "cell_type": "code",
      "metadata": {
        "colab": {
          "base_uri": "https://localhost:8080/"
        },
        "id": "6zP3EFp27WXy",
        "outputId": "8a3e9166-2919-4053-e689-77d7626a39ea"
      },
      "source": [
        "print(dataset.y)"
      ],
      "execution_count": null,
      "outputs": [
        {
          "output_type": "stream",
          "name": "stdout",
          "text": [
            "[[0.58655306]\n",
            " [0.64357696]\n",
            " [0.28027519]\n",
            " [0.74431899]]\n"
          ]
        }
      ]
    },
    {
      "cell_type": "code",
      "metadata": {
        "colab": {
          "base_uri": "https://localhost:8080/"
        },
        "id": "-l8BqNVQ7Yhb",
        "outputId": "5db16009-8729-4515-c99e-5cb80f1f5bf7"
      },
      "source": [
        "np.array_equal(x, dataset.X)"
      ],
      "execution_count": null,
      "outputs": [
        {
          "output_type": "execute_result",
          "data": {
            "text/plain": [
              "True"
            ]
          },
          "metadata": {},
          "execution_count": 46
        }
      ]
    },
    {
      "cell_type": "code",
      "metadata": {
        "colab": {
          "base_uri": "https://localhost:8080/"
        },
        "id": "FCrxy5hU7dwC",
        "outputId": "5eaa3f52-4b7d-41a4-a068-6359ba95f4d8"
      },
      "source": [
        "np.array_equal(y, dataset.y)"
      ],
      "execution_count": null,
      "outputs": [
        {
          "output_type": "execute_result",
          "data": {
            "text/plain": [
              "True"
            ]
          },
          "metadata": {},
          "execution_count": 47
        }
      ]
    },
    {
      "cell_type": "code",
      "metadata": {
        "id": "2iYF4oJh7gZi"
      },
      "source": [
        "tox21_tasks, tox21_datasets, transformers = dc.molnet.load_tox21()"
      ],
      "execution_count": null,
      "outputs": []
    },
    {
      "cell_type": "code",
      "metadata": {
        "colab": {
          "base_uri": "https://localhost:8080/"
        },
        "id": "UFcH7GyM9tbM",
        "outputId": "453c7473-a69d-4f89-c3a9-28a6a1671753"
      },
      "source": [
        "tox21_tasks"
      ],
      "execution_count": null,
      "outputs": [
        {
          "output_type": "execute_result",
          "data": {
            "text/plain": [
              "['NR-AR',\n",
              " 'NR-AR-LBD',\n",
              " 'NR-AhR',\n",
              " 'NR-Aromatase',\n",
              " 'NR-ER',\n",
              " 'NR-ER-LBD',\n",
              " 'NR-PPAR-gamma',\n",
              " 'SR-ARE',\n",
              " 'SR-ATAD5',\n",
              " 'SR-HSE',\n",
              " 'SR-MMP',\n",
              " 'SR-p53']"
            ]
          },
          "metadata": {},
          "execution_count": 51
        }
      ]
    },
    {
      "cell_type": "code",
      "metadata": {
        "colab": {
          "base_uri": "https://localhost:8080/"
        },
        "id": "BGaUIZYNA59k",
        "outputId": "dc6f96df-ace7-46c9-d0b2-27cfda6bb229"
      },
      "source": [
        "len(tox21_tasks)"
      ],
      "execution_count": null,
      "outputs": [
        {
          "output_type": "execute_result",
          "data": {
            "text/plain": [
              "12"
            ]
          },
          "metadata": {},
          "execution_count": 52
        }
      ]
    },
    {
      "cell_type": "code",
      "metadata": {
        "colab": {
          "base_uri": "https://localhost:8080/"
        },
        "id": "pwE0kyTTPZ2a",
        "outputId": "2a75c6b5-2736-4b7f-8c31-e18935a58455"
      },
      "source": [
        "tox21_datasets"
      ],
      "execution_count": null,
      "outputs": [
        {
          "output_type": "execute_result",
          "data": {
            "text/plain": [
              "(<DiskDataset X.shape: (6264, 1024), y.shape: (6264, 12), w.shape: (6264, 12), task_names: ['NR-AR' 'NR-AR-LBD' 'NR-AhR' ... 'SR-HSE' 'SR-MMP' 'SR-p53']>,\n",
              " <DiskDataset X.shape: (783, 1024), y.shape: (783, 12), w.shape: (783, 12), ids: ['N#C[C@@H]1CC(F)(F)CN1C(=O)CNC1CC2CCC(C1)N2c1ncccn1'\n",
              "  'CN(C)C(=O)NC1(c2ccccc2)CCN(CCC[C@@]2(c3ccc(Cl)c(Cl)c3)CCCN(C(=O)c3ccccc3)C2)CC1'\n",
              "  'CSc1nnc(C(C)(C)C)c(=O)n1N' ...\n",
              "  'O=C(O[C@H]1CN2CCC1CC2)N1CCc2ccccc2[C@@H]1c1ccccc1'\n",
              "  'C#C[C@]1(O)CC[C@H]2[C@@H]3CCC4=CC(=O)CC[C@@H]4[C@H]3C(=C)C[C@@]21CC'\n",
              "  'NC(=O)C(c1ccccc1)(c1ccccc1)[C@@H]1CCN(CCc2ccc3c(c2)CCO3)C1'], task_names: ['NR-AR' 'NR-AR-LBD' 'NR-AhR' ... 'SR-HSE' 'SR-MMP' 'SR-p53']>,\n",
              " <DiskDataset X.shape: (784, 1024), y.shape: (784, 12), w.shape: (784, 12), ids: ['CC1(C)S[C@@H]2[C@H](NC(=O)Cc3ccccc3)C(=O)N2[C@H]1C(=O)O.CC1(C)S[C@@H]2[C@H](NC(=O)Cc3ccccc3)C(=O)N2[C@H]1C(=O)O.c1ccc(CNCCNCc2ccccc2)cc1'\n",
              "  'CC(C)(c1ccc(Oc2ccc3c(c2)C(=O)OC3=O)cc1)c1ccc(Oc2ccc3c(c2)C(=O)OC3=O)cc1'\n",
              "  'Cc1cc(C(C)(C)C)c(O)c(C)c1Cn1c(=O)n(Cc2c(C)cc(C(C)(C)C)c(O)c2C)c(=O)n(Cc2c(C)cc(C(C)(C)C)c(O)c2C)c1=O'\n",
              "  ... 'CN[C@@H]1C[C@@H](c2ccc(Cl)c(Cl)c2)c2ccccc21'\n",
              "  'Cl/C=C\\\\C[N+]12CN3CN(CN(C3)C1)C2'\n",
              "  'NC(=O)c1ccc[n+]([C@@H]2O[C@H](COP(=O)([O-])OP(=O)(O)OC[C@H]3O[C@@H](n4cnc5c(N)ncnc54)[C@H](O)[C@@H]3O)[C@@H](O)[C@H]2O)c1'], task_names: ['NR-AR' 'NR-AR-LBD' 'NR-AhR' ... 'SR-HSE' 'SR-MMP' 'SR-p53']>)"
            ]
          },
          "metadata": {},
          "execution_count": 53
        }
      ]
    },
    {
      "cell_type": "code",
      "metadata": {
        "id": "DtTXvgSEP7R6"
      },
      "source": [
        "train_dataset, valid_dataset, test_dataset = tox21_datasets"
      ],
      "execution_count": null,
      "outputs": []
    },
    {
      "cell_type": "code",
      "metadata": {
        "colab": {
          "base_uri": "https://localhost:8080/"
        },
        "id": "x9aLik39P_6K",
        "outputId": "81191acd-af86-4f0c-c568-4fb2d13d5e3f"
      },
      "source": [
        "train_dataset.X.shape"
      ],
      "execution_count": null,
      "outputs": [
        {
          "output_type": "execute_result",
          "data": {
            "text/plain": [
              "(6264, 1024)"
            ]
          },
          "metadata": {},
          "execution_count": 55
        }
      ]
    },
    {
      "cell_type": "code",
      "metadata": {
        "colab": {
          "base_uri": "https://localhost:8080/"
        },
        "id": "1lBKLsTfQEG6",
        "outputId": "b0917135-6010-445d-eb3d-a84072abe847"
      },
      "source": [
        "valid_dataset.X.shape"
      ],
      "execution_count": null,
      "outputs": [
        {
          "output_type": "execute_result",
          "data": {
            "text/plain": [
              "(783, 1024)"
            ]
          },
          "metadata": {},
          "execution_count": 56
        }
      ]
    },
    {
      "cell_type": "code",
      "metadata": {
        "colab": {
          "base_uri": "https://localhost:8080/"
        },
        "id": "ENnQYR8pQHtK",
        "outputId": "8ec9118b-4f39-49a0-ef62-2a933d0cd447"
      },
      "source": [
        "test_dataset.X.shape"
      ],
      "execution_count": null,
      "outputs": [
        {
          "output_type": "execute_result",
          "data": {
            "text/plain": [
              "(784, 1024)"
            ]
          },
          "metadata": {},
          "execution_count": 57
        }
      ]
    },
    {
      "cell_type": "code",
      "metadata": {
        "colab": {
          "base_uri": "https://localhost:8080/"
        },
        "id": "0Ir7EeetQJhS",
        "outputId": "c0390d87-2c21-4b7f-86dd-9c6323c7883c"
      },
      "source": [
        "np.shape(train_dataset.y)"
      ],
      "execution_count": null,
      "outputs": [
        {
          "output_type": "execute_result",
          "data": {
            "text/plain": [
              "(6264, 12)"
            ]
          },
          "metadata": {},
          "execution_count": 58
        }
      ]
    },
    {
      "cell_type": "code",
      "metadata": {
        "colab": {
          "base_uri": "https://localhost:8080/"
        },
        "id": "RX8RUeubQU6C",
        "outputId": "03ee57eb-3c89-4814-8926-20091e93d480"
      },
      "source": [
        "np.shape(valid_dataset.y)"
      ],
      "execution_count": null,
      "outputs": [
        {
          "output_type": "execute_result",
          "data": {
            "text/plain": [
              "(783, 12)"
            ]
          },
          "metadata": {},
          "execution_count": 59
        }
      ]
    },
    {
      "cell_type": "code",
      "metadata": {
        "colab": {
          "base_uri": "https://localhost:8080/"
        },
        "id": "zy72OlzYQWbq",
        "outputId": "c94a5653-31f5-4385-f0e4-e179c9705b6b"
      },
      "source": [
        "np.shape(test_dataset.y)"
      ],
      "execution_count": null,
      "outputs": [
        {
          "output_type": "execute_result",
          "data": {
            "text/plain": [
              "(784, 12)"
            ]
          },
          "metadata": {},
          "execution_count": 60
        }
      ]
    },
    {
      "cell_type": "code",
      "metadata": {
        "id": "IFsc065AQYUC"
      },
      "source": [
        ""
      ],
      "execution_count": null,
      "outputs": []
    }
  ]
}